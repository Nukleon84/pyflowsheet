{
 "cells": [
  {
   "cell_type": "code",
   "execution_count": 10,
   "metadata": {
    "tags": []
   },
   "outputs": [
    {
     "output_type": "execute_result",
     "data": {
      "text/plain": [
       "<IPython.core.display.SVG object>"
      ],
      "image/svg+xml": "<svg baseProfile=\"full\" height=\"700px\" version=\"1.1\" viewBox=\"-120,0,920.0,700\" width=\"920.0px\" xmlns=\"http://www.w3.org/2000/svg\" xmlns:ev=\"http://www.w3.org/2001/xml-events\" xmlns:xlink=\"http://www.w3.org/1999/xlink\"><defs><marker id=\"id10\" markerHeight=\"4\" markerWidth=\"4\" orient=\"auto\" refX=\"2\" refY=\"2\"><path d=\"M0,0 V4 L2,2 Z\" stroke-width=\"1\"/></marker></defs><g id=\"S01\"><path d=\"M -40 500.0  L -40 500  L 60 500 \" fill=\"none\" marker-end=\"url(#id10)\" stroke=\"rgb(0, 0, 0)\" stroke-width=\"2\"/><text fill=\"rgb(0, 0, 0)\" font-family=\"Arial\" font-size=\"10\" text-anchor=\"middle\" x=\"-30\" y=\"510\">S01</text></g><g id=\"S02\"><path d=\"M 100 500.0  L 100 500  L 110 500  L 110 410  L 190 410  L 190 400 \" fill=\"none\" marker-end=\"url(#id10)\" stroke=\"rgb(0, 0, 0)\" stroke-width=\"2\"/><text fill=\"rgb(0, 0, 0)\" font-family=\"Arial\" font-size=\"10\" text-anchor=\"middle\" x=\"110\" y=\"510\">S02</text></g><g id=\"S03\"><path d=\"M 190.0 280  L 190 280  L 190 260  L 260 260 \" fill=\"none\" marker-end=\"url(#id10)\" stroke=\"rgb(0, 0, 0)\" stroke-width=\"2\"/><text fill=\"rgb(0, 0, 0)\" font-family=\"Arial\" font-size=\"10\" text-anchor=\"middle\" x=\"190\" y=\"280\">S03</text></g><g id=\"S07\"><path d=\"M 300 260.0  L 300 260  L 360 260 \" fill=\"none\" marker-end=\"url(#id10)\" stroke=\"rgb(0, 0, 0)\" stroke-width=\"2\"/><text fill=\"rgb(0, 0, 0)\" font-family=\"Arial\" font-size=\"10\" text-anchor=\"middle\" x=\"310\" y=\"270\">S07</text></g><g id=\"S04\"><path d=\"M 480.0 450.0  L 480 450  L 560 450 \" fill=\"none\" marker-end=\"url(#id10)\" stroke=\"rgb(0, 0, 0)\" stroke-width=\"2\"/><text fill=\"rgb(0, 0, 0)\" font-family=\"Arial\" font-size=\"10\" text-anchor=\"middle\" x=\"490\" y=\"460\">S04</text></g><g id=\"S05\"><path d=\"M 390.0 100  L 390 100  L 390 60  L 700 60 \" fill=\"none\" marker-end=\"url(#id10)\" stroke=\"rgb(255, 0, 0)\" stroke-dasharray=\"10 10\" stroke-width=\"2\"/><text fill=\"rgb(0, 0, 0)\" font-family=\"Arial\" font-size=\"10\" text-anchor=\"middle\" x=\"390\" y=\"100\">S05</text></g><g id=\"S06\"><path d=\"M 660 450.0  L 660 450  L 750 450  L 750 600  L 740 600 \" fill=\"none\" marker-end=\"url(#id10)\" stroke=\"rgb(0, 0, 0)\" stroke-width=\"2\"/><text fill=\"rgb(0, 0, 0)\" font-family=\"Arial\" font-size=\"10\" text-anchor=\"middle\" x=\"670\" y=\"460\">S06</text></g><g id=\"S08\"><path d=\"M 700 600.0  L 700 600  L -40 600 \" fill=\"none\" marker-end=\"url(#id10)\" stroke=\"rgb(0, 0, 0)\" stroke-width=\"2\"/><text fill=\"rgb(0, 0, 0)\" font-family=\"Arial\" font-size=\"10\" text-anchor=\"middle\" x=\"690\" y=\"610\">S08</text></g><g id=\"F100T\"><path d=\"M -80 490.0  L -60.0 490.0  L -60.0 480  L -40 500.0  L -60.0 520  L -60.0 510.0  L -80 510.0  Z\" fill=\"rgb(255, 255, 255)\" stroke=\"rgb(0, 0, 0)\" stroke-width=\"2\"/></g><g id=\"F100\"><text fill=\"rgb(0, 0, 0)\" font-family=\"Arial\" font-size=\"12\" text-anchor=\"middle\" x=\"-60.0\" y=\"540\">F100</text></g><g id=\"DS10-PA10T\"><circle cx=\"80.0\" cy=\"500.0\" fill=\"rgb(255, 255, 255)\" r=\"20.0\" stroke=\"rgb(0, 0, 0)\" stroke-width=\"2\"/><line stroke=\"rgb(0, 0, 0)\" stroke-width=\"2\" x1=\"80.0\" x2=\"100\" y1=\"480\" y2=\"500.0\"/><line stroke=\"rgb(0, 0, 0)\" stroke-width=\"2\" x1=\"80.0\" x2=\"100\" y1=\"520\" y2=\"500.0\"/></g><g id=\"DS10-PA10\"><text fill=\"rgb(0, 0, 0)\" font-family=\"Arial\" font-size=\"12\" text-anchor=\"middle\" x=\"80.0\" y=\"540\">DS10-PA10</text></g><g id=\"DS10-WA10T\"><path d=\"M 190.0 300.0  L 160.0 300.0  A 30.0 20.0 0 1,1 220.0 300.0 Z\" fill=\"rgb(255, 255, 255)\" stroke=\"rgb(0, 0, 0)\" stroke-width=\"2\"/><rect fill=\"rgb(255, 255, 255)\" height=\"80\" stroke=\"rgb(0, 0, 0)\" stroke-width=\"2\" width=\"60\" x=\"160\" y=\"300\"/><path d=\"M 190.0 380.0  L 220.0 380.0  A 30.0 20.0 0 1,1 160.0 380.0 Z\" fill=\"rgb(255, 255, 255)\" stroke=\"rgb(0, 0, 0)\" stroke-width=\"2\"/><line stroke=\"rgb(0, 0, 0)\" stroke-width=\"2\" x1=\"172.0\" x2=\"172.0\" y1=\"300\" y2=\"380\"/><line stroke=\"rgb(0, 0, 0)\" stroke-width=\"2\" x1=\"184.0\" x2=\"184.0\" y1=\"300\" y2=\"380\"/><line stroke=\"rgb(0, 0, 0)\" stroke-width=\"2\" x1=\"196.0\" x2=\"196.0\" y1=\"300\" y2=\"380\"/><line stroke=\"rgb(0, 0, 0)\" stroke-width=\"2\" x1=\"208.0\" x2=\"208.0\" y1=\"300\" y2=\"380\"/></g><g id=\"DS10-WA10\"><text fill=\"rgb(0, 0, 0)\" font-family=\"Arial\" font-size=\"12\" text-anchor=\"middle\" x=\"190.0\" y=\"420\">DS10-WA10</text></g><g id=\"DS10-VA10T\"><path d=\"M 260 250  L 300 270  L 300 250  L 260 270  Z\" fill=\"rgb(255, 255, 255)\" stroke=\"rgb(0, 0, 0)\" stroke-width=\"2\"/></g><g id=\"DS10-VA10\"><text fill=\"rgb(0, 0, 0)\" font-family=\"Arial\" font-size=\"12\" text-anchor=\"middle\" x=\"280.0\" y=\"290\">DS10-VA10</text></g><g id=\"DS10-KA10T\"><rect fill-opacity=\"0\" height=\"60.0\" stroke=\"rgb(0, 0, 0)\" stroke-width=\"2\" width=\"60.0\" x=\"390.0\" y=\"390.0\"/><circle cx=\"450.0\" cy=\"450.0\" fill=\"rgb(255, 255, 255)\" r=\"30.0\" stroke=\"rgb(0, 0, 0)\" stroke-width=\"2\"/><path d=\"M 390.0 130.0  L 360.0 130.0  A 30.0 30.0 0 1,1 420.0 130.0 Z\" fill=\"rgb(255, 255, 255)\" stroke=\"rgb(0, 0, 0)\" stroke-width=\"2\"/><rect fill=\"rgb(255, 255, 255)\" height=\"260.0\" stroke=\"rgb(0, 0, 0)\" stroke-width=\"2\" width=\"60\" x=\"360\" y=\"130.0\"/><path d=\"M 390.0 390.0  L 420.0 390.0  A 30.0 30.0 0 1,1 360.0 390.0 Z\" fill=\"rgb(255, 255, 255)\" stroke=\"rgb(0, 0, 0)\" stroke-width=\"2\"/><line stroke=\"rgb(0, 0, 0)\" stroke-width=\"2\" x1=\"360\" x2=\"408.0\" y1=\"130.0\" y2=\"130.0\"/><line stroke=\"rgb(0, 0, 0)\" stroke-width=\"2\" x1=\"372.0\" x2=\"420\" y1=\"153.63636363636363\" y2=\"153.63636363636363\"/><line stroke=\"rgb(0, 0, 0)\" stroke-width=\"2\" x1=\"360\" x2=\"408.0\" y1=\"177.27272727272728\" y2=\"177.27272727272728\"/><line stroke=\"rgb(0, 0, 0)\" stroke-width=\"2\" x1=\"372.0\" x2=\"420\" y1=\"200.9090909090909\" y2=\"200.9090909090909\"/><line stroke=\"rgb(0, 0, 0)\" stroke-width=\"2\" x1=\"360\" x2=\"408.0\" y1=\"224.54545454545456\" y2=\"224.54545454545456\"/><line stroke=\"rgb(0, 0, 0)\" stroke-width=\"2\" x1=\"372.0\" x2=\"420\" y1=\"248.1818181818182\" y2=\"248.1818181818182\"/><line stroke=\"rgb(0, 0, 0)\" stroke-width=\"2\" x1=\"360\" x2=\"408.0\" y1=\"271.8181818181818\" y2=\"271.8181818181818\"/><line stroke=\"rgb(0, 0, 0)\" stroke-width=\"2\" x1=\"372.0\" x2=\"420\" y1=\"295.4545454545455\" y2=\"295.4545454545455\"/><line stroke=\"rgb(0, 0, 0)\" stroke-width=\"2\" x1=\"360\" x2=\"408.0\" y1=\"319.0909090909091\" y2=\"319.0909090909091\"/><line stroke=\"rgb(0, 0, 0)\" stroke-width=\"2\" x1=\"372.0\" x2=\"420\" y1=\"342.72727272727275\" y2=\"342.72727272727275\"/><line stroke=\"rgb(0, 0, 0)\" stroke-width=\"2\" x1=\"360\" x2=\"408.0\" y1=\"366.3636363636364\" y2=\"366.3636363636364\"/></g><g id=\"DS10-KA10\"><text fill=\"rgb(0, 0, 0)\" font-family=\"Arial\" font-size=\"12\" text-anchor=\"start\" x=\"430\" y=\"260.0\">DS10-KA10</text></g><g id=\"DS10-BA11T\"><path d=\"M 580.0 450.0  L 580.0 470.0  A 20.0 20.0 0 1,1 580.0 430.0 Z\" fill=\"rgb(255, 255, 255)\" stroke=\"rgb(0, 0, 0)\" stroke-width=\"2\"/><rect fill=\"rgb(255, 255, 255)\" height=\"40\" stroke=\"rgb(0, 0, 0)\" stroke-width=\"2\" width=\"60\" x=\"580\" y=\"430\"/><path d=\"M 640.0 450.0  L 640.0 430.0  A 20.0 20.0 0 1,1 640.0 470.0 Z\" fill=\"rgb(255, 255, 255)\" stroke=\"rgb(0, 0, 0)\" stroke-width=\"2\"/><line stroke=\"rgb(0, 0, 0)\" stroke-width=\"2\" x1=\"580\" x2=\"640\" y1=\"430\" y2=\"470\"/><line stroke=\"rgb(0, 0, 0)\" stroke-width=\"2\" x1=\"580\" x2=\"640\" y1=\"470\" y2=\"430\"/></g><g id=\"DS10-BA11\"><text fill=\"rgb(0, 0, 0)\" font-family=\"Arial\" font-size=\"12\" text-anchor=\"middle\" x=\"610.0\" y=\"490\">DS10-BA11</text></g><g id=\"P1T\"><path d=\"M 700 50.0  L 720.0 50.0  L 720.0 40  L 740 60.0  L 720.0 80  L 720.0 70.0  L 700 70.0  Z\" fill=\"rgb(255, 255, 255)\" stroke=\"rgb(0, 0, 0)\" stroke-width=\"2\"/></g><g id=\"P1\"><text fill=\"rgb(0, 0, 0)\" font-family=\"Arial\" font-size=\"12\" text-anchor=\"middle\" x=\"720.0\" y=\"100\">P1</text></g><g id=\"P2T\" transform=\"translate(-60.0,0) scale(-1,1) translate(60.0,0)\"><path d=\"M -80 590.0  L -60.0 590.0  L -60.0 580  L -40 600.0  L -60.0 620  L -60.0 610.0  L -80 610.0  Z\" fill=\"rgb(255, 255, 255)\" stroke=\"rgb(0, 0, 0)\" stroke-width=\"2\"/></g><g id=\"P2\"><text fill=\"rgb(0, 0, 0)\" font-family=\"Arial\" font-size=\"12\" text-anchor=\"middle\" x=\"-60.0\" y=\"640\">P2</text></g><g id=\"DS10-PA11T\" transform=\"translate(720.0,0) scale(-1,1) translate(-720.0,0)\"><circle cx=\"720.0\" cy=\"600.0\" fill=\"rgb(255, 255, 255)\" r=\"20.0\" stroke=\"rgb(0, 0, 0)\" stroke-width=\"2\"/><line stroke=\"rgb(0, 0, 0)\" stroke-width=\"2\" x1=\"720.0\" x2=\"740\" y1=\"580\" y2=\"600.0\"/><line stroke=\"rgb(0, 0, 0)\" stroke-width=\"2\" x1=\"720.0\" x2=\"740\" y1=\"620\" y2=\"600.0\"/></g><g id=\"DS10-PA11\"><text fill=\"rgb(0, 0, 0)\" font-family=\"Arial\" font-size=\"12\" text-anchor=\"middle\" x=\"720.0\" y=\"640\">DS10-PA11</text></g></svg>"
     },
     "metadata": {},
     "execution_count": 10
    }
   ],
   "source": [
    "from pyflowsheet import Flowsheet, UnitOperation, Distillation, Vessel, BlackBox, Pump, Stream, StreamFlag, Valve,HeatExchanger, BitmapContext, SvgContext\n",
    "from pyflowsheet import VerticalLabelAlignment, HorizontalLabelAlignment\n",
    "from IPython.core.display import SVG, HTML\n",
    "\n",
    "pfd= Flowsheet(\"V100-DS10\",\"Simple Distillation\", \"Demo Flowsheet for testing functionality\")\n",
    "\n",
    "Feed= StreamFlag(\"F100\", \"Feed\", position=(-80,480))\n",
    "PA10=Pump(\"DS10-PA10\",\"Vertical Vessel\", position=(60,480))\n",
    "BA10=Vessel(\"DS10-WA10\",\"Vertical Vessel\", position=(160,280), size=(60,120),capLength=20,internals=\"Tubes\")\n",
    "VA10=Valve(\"DS10-VA10\",\"Control Valve\", position=(260,250) )\n",
    "KA10=Distillation(\"DS10-KA10\",\"Distillation Tower\", hasCondenser=False, hasReboiler=True,position=(360,100), size=(60,320), internals=\"trays\")\n",
    "BA11=Vessel(\"DS10-BA11\",\"Horizontal Vessel\", orientation=\"horizontal\", position=(560,430), size=(100,40), capLength=20,internals=\"Bed\" )\n",
    "P1= StreamFlag(\"P1\", \"Product 1\", position=(700,40))\n",
    "P2= StreamFlag(\"P2\", \"Product 2\", position=(-80,580))\n",
    "PA11=Pump(\"DS10-PA11\",\"Bottom Pump\", position=(700,580))\n",
    "\n",
    "pfd.addUnits( [Feed,PA10,BA10,VA10,KA10,BA11,P1,P2,PA11 ] )\n",
    "\n",
    "pfd.connect(\"S01\", Feed[\"Out\"], PA10[\"In\"] ) \n",
    "pfd.connect(\"S02\", PA10[\"Out\"], BA10[\"In\"] ) \n",
    "pfd.connect(\"S03\", BA10[\"Out\"], VA10[\"In\"] ) \n",
    "pfd.connect(\"S07\", VA10[\"Out\"], KA10[\"Feed\"] ) \n",
    "pfd.connect(\"S04\", KA10[\"Bottom\"], BA11[\"In\"] ) \n",
    "pfd.connect(\"S05\", KA10[\"VOut\"], P1[\"In\"] ) \n",
    "pfd.connect(\"S06\", BA11[\"Out\"], PA11[\"In\"] )\n",
    "pfd.connect(\"S08\", PA11[\"Out\"], P2[\"In\"] )\n",
    "#Examples for Styling\n",
    "pfd.streams[\"S05\"].lineColor=(255,0,0,0,255)\n",
    "pfd.streams[\"S05\"].dashArray=\"10 10\"\n",
    "\n",
    "PA11.flip(axis=\"horizontal\")\n",
    "P2.flip(axis=\"horizontal\")\n",
    "\n",
    "KA10.setTextAnchor(HorizontalLabelAlignment.RightOuter,VerticalLabelAlignment.Center,(10,0) )\n",
    "ctx= SvgContext(\"img/small_process.svg\")\n",
    "img = pfd.draw(ctx)\n",
    "SVG(img.render(scale=1))\n",
    "\n"
   ]
  },
  {
   "cell_type": "code",
   "execution_count": 8,
   "metadata": {},
   "outputs": [
    {
     "output_type": "execute_result",
     "data": {
      "text/plain": [
       "<IPython.core.display.SVG object>"
      ],
      "image/svg+xml": "<svg baseProfile=\"full\" height=\"370px\" version=\"1.1\" viewBox=\"-40,40,640.0,370\" width=\"640.0px\" xmlns=\"http://www.w3.org/2000/svg\" xmlns:ev=\"http://www.w3.org/2001/xml-events\" xmlns:xlink=\"http://www.w3.org/1999/xlink\"><defs><marker id=\"id8\" markerHeight=\"4\" markerWidth=\"4\" orient=\"auto\" refX=\"2\" refY=\"2\"><path d=\"M0,0 V4 L2,2 Z\" stroke-width=\"1\"/></marker></defs><g id=\"S01\"><path d=\"M 40 220.0  L 40 220  L 160 220 \" fill=\"none\" marker-end=\"url(#id8)\" stroke=\"rgb(0, 0, 0)\" stroke-width=\"2\"/><text fill=\"rgb(0, 0, 0)\" font-family=\"Arial\" font-size=\"10\" text-anchor=\"middle\" x=\"50\" y=\"230\">S01</text></g><g id=\"S02\"><path d=\"M 200 220.0  L 200 220  L 300 220 \" fill=\"none\" marker-end=\"url(#id8)\" stroke=\"rgb(0, 0, 0)\" stroke-width=\"2\"/><text fill=\"rgb(0, 0, 0)\" font-family=\"Arial\" font-size=\"10\" text-anchor=\"middle\" x=\"210\" y=\"230\">S02</text></g><g id=\"S03\"><path d=\"M 380.0 140.0  L 380 140  L 500 140 \" fill=\"none\" marker-end=\"url(#id8)\" stroke=\"rgb(0, 0, 0)\" stroke-width=\"2\"/><text fill=\"rgb(0, 0, 0)\" font-family=\"Arial\" font-size=\"10\" text-anchor=\"middle\" x=\"390\" y=\"150\">S03</text></g><g id=\"S04\"><path d=\"M 380.0 340.0  L 380 340  L 390 340  L 390 370  L 290 370  L 290 250  L 180 250  L 180 240 \" fill=\"none\" marker-end=\"url(#id8)\" stroke=\"rgb(0, 0, 0)\" stroke-width=\"2\"/><text fill=\"rgb(0, 0, 0)\" font-family=\"Arial\" font-size=\"10\" text-anchor=\"middle\" x=\"390\" y=\"350\">S04</text></g><g id=\"S05\"><path d=\"M 180.0 200  L 180 200  L 180 140  L 40 140 \" fill=\"none\" marker-end=\"url(#id8)\" stroke=\"rgb(0, 0, 0)\" stroke-width=\"2\"/><text fill=\"rgb(0, 0, 0)\" font-family=\"Arial\" font-size=\"10\" text-anchor=\"middle\" x=\"180\" y=\"200\">S05</text></g><g id=\"F100T\"><path d=\"M 0 210.0  L 20.0 210.0  L 20.0 200  L 40 220.0  L 20.0 240  L 20.0 230.0  L 0 230.0  Z\" fill=\"rgb(255, 255, 255)\" stroke=\"rgb(0, 0, 0)\" stroke-width=\"2\"/></g><g id=\"F100\"><text fill=\"rgb(0, 0, 0)\" font-family=\"Arial\" font-size=\"12\" text-anchor=\"middle\" x=\"20.0\" y=\"260\">F100</text></g><g id=\"DS10-WA10T\" transform=\"translate(0,220.0) scale(1,-1) translate(0,-220.0)\"><circle cx=\"180.0\" cy=\"220.0\" fill=\"rgb(255, 255, 255)\" r=\"20.0\" stroke=\"rgb(0, 0, 0)\" stroke-width=\"2\"/><path d=\"M 160 220.0  L 166.66666666666666 220.0  L 173.33333333333334 210.0  L 186.66666666666666 230.0  L 193.33333333333334 220.0  L 200 220.0 \" fill=\"none\" stroke=\"rgb(0, 0, 0)\" stroke-width=\"2\"/></g><g id=\"DS10-WA10\"><text fill=\"rgb(0, 0, 0)\" font-family=\"Arial\" font-size=\"12\" text-anchor=\"middle\" x=\"180.0\" y=\"260\">DS10-WA10</text></g><g id=\"DS10-KA10T\"><rect fill-opacity=\"0\" height=\"40.0\" stroke=\"rgb(0, 0, 0)\" stroke-width=\"2\" width=\"40.0\" x=\"320.0\" y=\"100.0\"/><circle cx=\"360.0\" cy=\"100.0\" fill=\"rgb(255, 255, 255)\" r=\"20.0\" stroke=\"rgb(0, 0, 0)\" stroke-width=\"2\"/><line stroke=\"rgb(0, 0, 0)\" stroke-width=\"2\" x1=\"360.0\" x2=\"380\" y1=\"140.0\" y2=\"140.0\"/><rect fill-opacity=\"0\" height=\"40.0\" stroke=\"rgb(0, 0, 0)\" stroke-width=\"2\" width=\"40.0\" x=\"320.0\" y=\"300.0\"/><circle cx=\"360.0\" cy=\"340.0\" fill=\"rgb(255, 255, 255)\" r=\"20.0\" stroke=\"rgb(0, 0, 0)\" stroke-width=\"2\"/><path d=\"M 320.0 140.0  L 300.0 140.0  A 20.0 20.0 0 1,1 340.0 140.0 Z\" fill=\"rgb(255, 255, 255)\" stroke=\"rgb(0, 0, 0)\" stroke-width=\"2\"/><rect fill=\"rgb(255, 255, 255)\" height=\"160.0\" stroke=\"rgb(0, 0, 0)\" stroke-width=\"2\" width=\"40\" x=\"300\" y=\"140.0\"/><path d=\"M 320.0 300.0  L 340.0 300.0  A 20.0 20.0 0 1,1 300.0 300.0 Z\" fill=\"rgb(255, 255, 255)\" stroke=\"rgb(0, 0, 0)\" stroke-width=\"2\"/><line stroke=\"rgb(0, 0, 0)\" stroke-width=\"2\" x1=\"300\" x2=\"340\" y1=\"140.0\" y2=\"200.0\"/><line stroke=\"rgb(0, 0, 0)\" stroke-width=\"2\" x1=\"340\" x2=\"300\" y1=\"140.0\" y2=\"200.0\"/><line stroke=\"rgb(0, 0, 0)\" stroke-width=\"2\" x1=\"300\" x2=\"340\" y1=\"200.0\" y2=\"200.0\"/><line stroke=\"rgb(0, 0, 0)\" stroke-width=\"2\" x1=\"300\" x2=\"340\" y1=\"240.0\" y2=\"300.0\"/><line stroke=\"rgb(0, 0, 0)\" stroke-width=\"2\" x1=\"340\" x2=\"300\" y1=\"240.0\" y2=\"300.0\"/><line stroke=\"rgb(0, 0, 0)\" stroke-width=\"2\" x1=\"300\" x2=\"340\" y1=\"240.0\" y2=\"240.0\"/></g><g id=\"DS10-KA10\"><text fill=\"rgb(0, 0, 0)\" font-family=\"Arial\" font-size=\"12\" text-anchor=\"start\" x=\"350\" y=\"220.0\">DS10-KA10</text></g><g id=\"P1T\"><path d=\"M 500 130.0  L 520.0 130.0  L 520.0 120  L 540 140.0  L 520.0 160  L 520.0 150.0  L 500 150.0  Z\" fill=\"rgb(255, 255, 255)\" stroke=\"rgb(0, 0, 0)\" stroke-width=\"2\"/></g><g id=\"P1\"><text fill=\"rgb(0, 0, 0)\" font-family=\"Arial\" font-size=\"12\" text-anchor=\"middle\" x=\"520.0\" y=\"180\">P1</text></g><g id=\"P2T\" transform=\"translate(20.0,0) scale(-1,1) translate(-20.0,0)\"><path d=\"M 0 130.0  L 20.0 130.0  L 20.0 120  L 40 140.0  L 20.0 160  L 20.0 150.0  L 0 150.0  Z\" fill=\"rgb(255, 255, 255)\" stroke=\"rgb(0, 0, 0)\" stroke-width=\"2\"/></g><g id=\"P2\"><text fill=\"rgb(0, 0, 0)\" font-family=\"Arial\" font-size=\"12\" text-anchor=\"middle\" x=\"20.0\" y=\"180\">P2</text></g></svg>"
     },
     "metadata": {},
     "execution_count": 8
    }
   ],
   "source": [
    "from pyflowsheet import Flowsheet, UnitOperation, Distillation, Vessel, BlackBox, Pump, Stream, StreamFlag, Valve,HeatExchanger, BitmapContext, SvgContext\n",
    "from IPython.core.display import SVG, HTML\n",
    "from pyflowsheet import VerticalLabelAlignment, HorizontalLabelAlignment\n",
    "\n",
    "\n",
    "pfd2= Flowsheet(\"V100-DS20\",\"Simple Distillation\", \"Demo Flowsheet for testing functionality\")\n",
    "\n",
    "Feed= StreamFlag(\"F100\", \"Feed\", position=(0,200))\n",
    "WA10=HeatExchanger(\"DS10-WA10\",\"Pre-Heater\", position=(160,200))\n",
    "KA10=Distillation(\"DS10-KA10\",\"Distillation Tower\", hasCondenser=True, hasReboiler=True,position=(300,120), size=(40,200), internals=\"packing\")\n",
    "P1= StreamFlag(\"P1\", \"Product 1\", position=(500,120))\n",
    "P2= StreamFlag(\"P2\", \"Product 2\", position=(0,120))\n",
    "\n",
    "pfd2.addUnits( [Feed,WA10,KA10,P1,P2] )\n",
    "\n",
    "pfd2.connect(\"S01\", Feed[\"Out\"], WA10[\"TIn\"] ) \n",
    "pfd2.connect(\"S02\", WA10[\"TOut\"], KA10[\"Feed\"] ) \n",
    "pfd2.connect(\"S03\", KA10[\"Top\"], P1[\"In\"] ) \n",
    "pfd2.connect(\"S04\", KA10[\"Bottom\"], WA10[\"SIn\"] ) \n",
    "pfd2.connect(\"S05\", WA10[\"SOut\"], P2[\"In\"] ) \n",
    "pfd2.showGrid=False\n",
    "#P2.rotate(180)\n",
    "P2.flip(axis=\"horizontal\")\n",
    "WA10.flip(axis=\"vertical\")\n",
    "KA10.setTextAnchor(HorizontalLabelAlignment.RightOuter,VerticalLabelAlignment.Center,(10,0) )\n",
    "\n",
    "ctx2= SvgContext(\"img/simple_column.svg\")\n",
    "img2 = pfd2.draw(ctx2)\n",
    "SVG(img2.render(scale=1))\n"
   ]
  },
  {
   "cell_type": "code",
   "execution_count": 7,
   "metadata": {},
   "outputs": [
    {
     "output_type": "execute_result",
     "data": {
      "text/plain": [
       "<IPython.core.display.SVG object>"
      ],
      "image/svg+xml": "<svg baseProfile=\"full\" height=\"360px\" style=\"background-color:rgb(0, 128, 128)\" version=\"1.1\" viewBox=\"-40,60,540.0,360\" width=\"540.0px\" xmlns=\"http://www.w3.org/2000/svg\" xmlns:ev=\"http://www.w3.org/2001/xml-events\" xmlns:xlink=\"http://www.w3.org/1999/xlink\"><defs><marker id=\"id7\" markerHeight=\"4\" markerWidth=\"4\" orient=\"auto\" refX=\"2\" refY=\"2\"><path d=\"M0,0 V4 L2,2 Z\" stroke-width=\"1\"/></marker></defs><g id=\"S01\"><path d=\"M 40 220.0  L 40 220  L 100 220  L 104.0 220.0 \" fill=\"none\" marker-end=\"url(#id7)\" stroke=\"rgb(0, 0, 255)\" stroke-width=\"2\"/><text fill=\"rgb(165, 165, 165)\" font-family=\"Arial\" font-size=\"10\" text-anchor=\"middle\" x=\"50\" y=\"230\">S01</text></g><g id=\"S02\"><path d=\"M 40 120.0  L 40 120  L 110 120  L 110 210  L 110.0 214.0 \" fill=\"none\" marker-end=\"url(#id7)\" stroke=\"rgb(0, 0, 255)\" stroke-width=\"2\"/><text fill=\"rgb(165, 165, 165)\" font-family=\"Arial\" font-size=\"10\" text-anchor=\"middle\" x=\"50\" y=\"130\">S02</text></g><g id=\"S03\"><path d=\"M 116.0 220.0  L 120 220  L 180 220 \" fill=\"none\" marker-end=\"url(#id7)\" stroke=\"rgb(0, 0, 255)\" stroke-width=\"2\"/><text fill=\"rgb(165, 165, 165)\" font-family=\"Arial\" font-size=\"10\" text-anchor=\"middle\" x=\"130\" y=\"230\">S03</text></g><g id=\"S04\"><path d=\"M 260 220.0  L 260 220  L 300 220  L 304.0 220.0 \" fill=\"none\" marker-end=\"url(#id7)\" stroke=\"rgb(0, 0, 255)\" stroke-width=\"2\"/><text fill=\"rgb(165, 165, 165)\" font-family=\"Arial\" font-size=\"10\" text-anchor=\"middle\" x=\"270\" y=\"230\">S04</text></g><g id=\"S05\"><path d=\"M 316.0 220.0  L 320 220  L 400 220 \" fill=\"none\" marker-end=\"url(#id7)\" stroke=\"rgb(0, 0, 255)\" stroke-width=\"2\"/><text fill=\"rgb(165, 165, 165)\" font-family=\"Arial\" font-size=\"10\" text-anchor=\"middle\" x=\"340\" y=\"230\">S05</text></g><g id=\"S06\"><path d=\"M 310.0 214.0  L 310 210  L 310 120  L 400 120 \" fill=\"none\" marker-end=\"url(#id7)\" stroke=\"rgb(0, 0, 255)\" stroke-width=\"2\"/><text fill=\"rgb(165, 165, 165)\" font-family=\"Arial\" font-size=\"10\" text-anchor=\"middle\" x=\"310\" y=\"200\">S06</text></g><g id=\"S07\"><path d=\"M 310.0 226.0  L 310 230  L 310 280  L 390 280  L 390 320  L 400 320 \" fill=\"none\" marker-end=\"url(#id7)\" stroke=\"rgb(0, 0, 255)\" stroke-width=\"2\"/><text fill=\"rgb(165, 165, 165)\" font-family=\"Arial\" font-size=\"10\" text-anchor=\"middle\" x=\"310\" y=\"260\">S07</text></g><g id=\"F100T\"><path d=\"M 0 210.0  L 20.0 210.0  L 20.0 200  L 40 220.0  L 20.0 240  L 20.0 230.0  L 0 230.0  Z\" fill=\"rgb(165, 165, 165)\" stroke=\"rgb(0, 0, 0)\" stroke-width=\"2\"/></g><g id=\"F100\"><text fill=\"rgb(255, 255, 255)\" font-family=\"Arial\" font-size=\"12\" text-anchor=\"middle\" x=\"20.0\" y=\"260\">F100</text></g><g id=\"F200T\"><path d=\"M 0 110.0  L 20.0 110.0  L 20.0 100  L 40 120.0  L 20.0 140  L 20.0 130.0  L 0 130.0  Z\" fill=\"rgb(165, 165, 165)\" stroke=\"rgb(0, 0, 0)\" stroke-width=\"2\"/></g><g id=\"F200\"><text fill=\"rgb(255, 255, 255)\" font-family=\"Arial\" font-size=\"12\" text-anchor=\"middle\" x=\"20.0\" y=\"160\">F200</text></g><g id=\"MX10T\"><rect fill=\"rgb(165, 165, 165)\" height=\"10\" stroke=\"rgb(0, 0, 0)\" stroke-width=\"2\" width=\"10\" x=\"105\" y=\"215\"/></g><g id=\"MX10\"><text fill=\"rgb(255, 255, 255)\" font-family=\"Arial\" font-size=\"12\" text-anchor=\"middle\" x=\"110.0\" y=\"240\">MX10</text></g><g id=\"DS10-WA10T\"><path d=\"M 200.0 220.0  L 200.0 240.0  A 20.0 20.0 0 1,1 200.0 200.0 Z\" fill=\"rgb(165, 165, 165)\" stroke=\"rgb(0, 0, 0)\" stroke-width=\"2\"/><rect fill=\"rgb(165, 165, 165)\" height=\"40\" stroke=\"rgb(0, 0, 0)\" stroke-width=\"2\" width=\"40.0\" x=\"200.0\" y=\"200\"/><path d=\"M 240.0 220.0  L 240.0 200.0  A 20.0 20.0 0 1,1 240.0 240.0 Z\" fill=\"rgb(165, 165, 165)\" stroke=\"rgb(0, 0, 0)\" stroke-width=\"2\"/><line stroke=\"rgb(0, 0, 0)\" stroke-width=\"2\" x1=\"200.0\" x2=\"240.0\" y1=\"208.0\" y2=\"208.0\"/><line stroke=\"rgb(0, 0, 0)\" stroke-width=\"2\" x1=\"200.0\" x2=\"240.0\" y1=\"216.0\" y2=\"216.0\"/><line stroke=\"rgb(0, 0, 0)\" stroke-width=\"2\" x1=\"200.0\" x2=\"240.0\" y1=\"224.0\" y2=\"224.0\"/><line stroke=\"rgb(0, 0, 0)\" stroke-width=\"2\" x1=\"200.0\" x2=\"240.0\" y1=\"232.0\" y2=\"232.0\"/></g><g id=\"DS10-WA10\"><text fill=\"rgb(255, 255, 255)\" font-family=\"Arial\" font-size=\"12\" text-anchor=\"middle\" x=\"220.0\" y=\"260\">DS10-WA10</text></g><g id=\"SP10T\"><rect fill=\"rgb(165, 165, 165)\" height=\"10\" stroke=\"rgb(0, 0, 0)\" stroke-width=\"2\" width=\"10\" x=\"305\" y=\"215\"/></g><g id=\"SP10\"><text fill=\"rgb(255, 255, 255)\" font-family=\"Arial\" font-size=\"12\" text-anchor=\"middle\" x=\"310.0\" y=\"240\">SP10</text></g><g id=\"P2T\"><path d=\"M 400 210.0  L 420.0 210.0  L 420.0 200  L 440 220.0  L 420.0 240  L 420.0 230.0  L 400 230.0  Z\" fill=\"rgb(165, 165, 165)\" stroke=\"rgb(0, 0, 0)\" stroke-width=\"2\"/></g><g id=\"P2\"><text fill=\"rgb(255, 255, 255)\" font-family=\"Arial\" font-size=\"12\" text-anchor=\"middle\" x=\"420.0\" y=\"260\">P2</text></g><g id=\"P1T\"><path d=\"M 400 110.0  L 420.0 110.0  L 420.0 100  L 440 120.0  L 420.0 140  L 420.0 130.0  L 400 130.0  Z\" fill=\"rgb(165, 165, 165)\" stroke=\"rgb(0, 0, 0)\" stroke-width=\"2\"/></g><g id=\"P1\"><text fill=\"rgb(255, 255, 255)\" font-family=\"Arial\" font-size=\"12\" text-anchor=\"middle\" x=\"420.0\" y=\"160\">P1</text></g><g id=\"P3T\"><path d=\"M 400 310.0  L 420.0 310.0  L 420.0 300  L 440 320.0  L 420.0 340  L 420.0 330.0  L 400 330.0  Z\" fill=\"rgb(165, 165, 165)\" stroke=\"rgb(0, 0, 0)\" stroke-width=\"2\"/></g><g id=\"P3\"><text fill=\"rgb(255, 255, 255)\" font-family=\"Arial\" font-size=\"12\" text-anchor=\"middle\" x=\"420.0\" y=\"360\">P3</text></g></svg>"
     },
     "metadata": {},
     "execution_count": 7
    }
   ],
   "source": [
    "from pyflowsheet import Flowsheet, UnitOperation, Distillation, Vessel, BlackBox, Pump, Stream, StreamFlag, Valve,HeatExchanger, BitmapContext, SvgContext, Mixer,Splitter\n",
    "from IPython.core.display import SVG, HTML\n",
    "\n",
    "\n",
    "pfd3= Flowsheet(\"V100-DS20\",\"Simple Distillation\", \"Demo Flowsheet for testing functionality\")\n",
    "\n",
    "Feed= StreamFlag(\"F100\", \"Feed\", position=(0,200))\n",
    "Feed2= StreamFlag(\"F200\", \"Feed\", position=(0,100))\n",
    "MX10= Mixer(\"MX10\", \"Mixer\", position=(100,210))\n",
    "WA10=Vessel(\"DS10-WA10\",\"Condenser\", position=(180,200), orientation=\"horizontal\", size=(80,40), internals=\"tubes\")\n",
    "\n",
    "SP10= Splitter(\"SP10\", \"Splitter\", position=(300,210))\n",
    "\n",
    "P2= StreamFlag(\"P1\", \"Product 1\", position=(400,100))\n",
    "P1= StreamFlag(\"P2\", \"Product 2\", position=(400,200))\n",
    "P3= StreamFlag(\"P3\", \"Product 2\", position=(400,300))\n",
    "\n",
    "\n",
    "\n",
    "pfd3.addUnits( [Feed,Feed2, MX10, WA10, SP10, P1,P2,P3] )\n",
    "\n",
    "pfd3.connect(\"S01\", Feed[\"Out\"], MX10[\"In1\"] ) \n",
    "pfd3.connect(\"S02\", Feed2[\"Out\"], MX10[\"In2\"] ) \n",
    "pfd3.connect(\"S03\", MX10[\"Out\"], WA10[\"In\"] ) \n",
    "pfd3.connect(\"S04\", WA10[\"Out\"], SP10[\"In\"] ) \n",
    "pfd3.connect(\"S05\", SP10[\"Out1\"], P1[\"In\"] ) \n",
    "pfd3.connect(\"S06\", SP10[\"Out2\"], P2[\"In\"] ) \n",
    "pfd3.connect(\"S07\", SP10[\"Out3\"], P3[\"In\"] ) \n",
    "pfd3.showGrid=False\n",
    "\n",
    "for s in pfd3.streams.values():\n",
    "    s.lineColor=(0,0,255,255)\n",
    "    s.textColor=(165,165,165,255)\n",
    "\n",
    "for u in pfd3.unitOperations.values():\n",
    "    u.lineColor=(0,0,0,255)\n",
    "    u.fillColor=(165,165,165,255)\n",
    "    u.textColor=(255,255,255,255)\n",
    "\n",
    "ctx3= SvgContext(\"img/styling_colouring.svg\", (0,128,128) )\n",
    "img3 = pfd3.draw(ctx3)\n",
    "SVG(img3.render(scale=1))\n",
    "\n",
    "\n",
    "\n"
   ]
  },
  {
   "cell_type": "code",
   "execution_count": 6,
   "metadata": {},
   "outputs": [
    {
     "output_type": "execute_result",
     "data": {
      "text/plain": [
       "<IPython.core.display.SVG object>"
      ],
      "image/svg+xml": "<svg baseProfile=\"full\" height=\"580px\" style=\"background-color:rgb(255, 255, 255)\" version=\"1.1\" viewBox=\"-40,-40,700.0,580\" width=\"700.0px\" xmlns=\"http://www.w3.org/2000/svg\" xmlns:ev=\"http://www.w3.org/2001/xml-events\" xmlns:xlink=\"http://www.w3.org/1999/xlink\"><defs><marker id=\"id6\" markerHeight=\"4\" markerWidth=\"4\" orient=\"auto\" refX=\"2\" refY=\"2\"><path d=\"M0,0 V4 L2,2 Z\" stroke-width=\"1\"/></marker></defs><g id=\"S01\"><path d=\"M 40 270.0  L 40 270  L 160 270 \" fill=\"none\" marker-end=\"url(#id6)\" stroke=\"rgb(0, 0, 0)\" stroke-width=\"2\"/><text fill=\"rgb(0, 0, 0)\" font-family=\"Arial\" font-size=\"10\" text-anchor=\"middle\" x=\"50\" y=\"280\">S01</text></g><g id=\"S02\"><path d=\"M 200 270.0  L 200 270  L 300 270 \" fill=\"none\" marker-end=\"url(#id6)\" stroke=\"rgb(0, 0, 0)\" stroke-width=\"2\"/><text fill=\"rgb(0, 0, 0)\" font-family=\"Arial\" font-size=\"10\" text-anchor=\"middle\" x=\"210\" y=\"280\">S02</text></g><g id=\"S04\"><path d=\"M 320.0 420  L 320 420  L 320 430  L 390 430  L 390 460  L 400 460  L 404.0 460.0 \" fill=\"none\" marker-end=\"url(#id6)\" stroke=\"rgb(0, 0, 0)\" stroke-width=\"2\"/><text fill=\"rgb(0, 0, 0)\" font-family=\"Arial\" font-size=\"10\" text-anchor=\"middle\" x=\"320\" y=\"440\">S04</text></g><g id=\"S05\"><path d=\"M 180.0 290  L 180 290  L 180 420  L 40 420 \" fill=\"none\" marker-end=\"url(#id6)\" stroke=\"rgb(0, 0, 0)\" stroke-width=\"2\"/><text fill=\"rgb(0, 0, 0)\" font-family=\"Arial\" font-size=\"10\" text-anchor=\"middle\" x=\"190\" y=\"330\">S05</text></g><g id=\"S06\"><path d=\"M 416.0 460.0  L 420 460  L 460 460  L 464.0 460.0 \" fill=\"none\" marker-end=\"url(#id6)\" stroke=\"rgb(0, 0, 0)\" stroke-width=\"2\"/><text fill=\"rgb(0, 0, 0)\" font-family=\"Arial\" font-size=\"10\" text-anchor=\"middle\" x=\"430\" y=\"470\">S06</text></g><g id=\"S08\"><path d=\"M 470.0 454.0  L 470 450  L 470 330  L 410 330  L 410 340 \" fill=\"none\" marker-end=\"url(#id6)\" stroke=\"rgb(0, 0, 0)\" stroke-width=\"2\"/><text fill=\"rgb(0, 0, 0)\" font-family=\"Arial\" font-size=\"10\" text-anchor=\"middle\" x=\"470\" y=\"440\">S08</text></g><g id=\"S09\"><path d=\"M 410.0 420  L 410 420  L 410 450  L 410.0 454.0 \" fill=\"none\" marker-end=\"url(#id6)\" stroke=\"rgb(0, 0, 0)\" stroke-width=\"2\"/><text fill=\"rgb(0, 0, 0)\" font-family=\"Arial\" font-size=\"10\" text-anchor=\"middle\" x=\"410\" y=\"440\">S09</text></g><g id=\"S10\"><path d=\"M 390 400.0  L 390 400  L 340 400 \" fill=\"none\" marker-end=\"url(#id6)\" stroke=\"rgb(0, 0, 0)\" stroke-width=\"2\"/><text fill=\"rgb(0, 0, 0)\" font-family=\"Arial\" font-size=\"10\" text-anchor=\"middle\" x=\"380\" y=\"410\">S10</text></g><g id=\"S11\"><path d=\"M 320.0 120  L 320 120  L 320 50  L 390 50  L 391.7037086855466 47.059047744873965 \" fill=\"none\" marker-end=\"url(#id6)\" stroke=\"rgb(0, 0, 0)\" stroke-width=\"2\"/><text fill=\"rgb(0, 0, 0)\" font-family=\"Arial\" font-size=\"10\" text-anchor=\"middle\" x=\"330\" y=\"100\">S11</text></g><g id=\"S12\"><path d=\"M 488.2962913144534 72.94095225512604  L 490 70  L 510 70  L 510 130  L 510.0 134.0 \" fill=\"none\" marker-end=\"url(#id6)\" stroke=\"rgb(0, 0, 0)\" stroke-width=\"2\"/><text fill=\"rgb(0, 0, 0)\" font-family=\"Arial\" font-size=\"10\" text-anchor=\"middle\" x=\"500\" y=\"90\">S12</text></g><g id=\"S13\"><path d=\"M 516.0 140.0  L 520 140  L 560 140 \" fill=\"none\" marker-end=\"url(#id6)\" stroke=\"rgb(0, 0, 0)\" stroke-width=\"2\"/><text fill=\"rgb(0, 0, 0)\" font-family=\"Arial\" font-size=\"10\" text-anchor=\"middle\" x=\"540\" y=\"150\">S13</text></g><g id=\"S14\"><path d=\"M 504.0 140.0  L 500 140  L 340 140 \" fill=\"none\" marker-end=\"url(#id6)\" stroke=\"rgb(0, 0, 0)\" stroke-width=\"2\"/><text fill=\"rgb(0, 0, 0)\" font-family=\"Arial\" font-size=\"10\" text-anchor=\"middle\" x=\"480\" y=\"150\">S14</text></g><g id=\"S15\"><path d=\"M 478.9837848221678 49.74015005280686  L 480 50  L 480 20  L 560 20 \" fill=\"none\" marker-end=\"url(#id6)\" stroke=\"rgb(0, 0, 0)\" stroke-width=\"2\"/><text fill=\"rgb(0, 0, 0)\" font-family=\"Arial\" font-size=\"10\" text-anchor=\"middle\" x=\"490\" y=\"30\">S15</text></g><g id=\"S07\"><path d=\"M 476.0 460.0  L 490.0 460.0  L 490.0 490.0  L 250.0 490.0  L 250.0 230.0  L 180.0 230.0  L 180.0 250 \" fill=\"none\" marker-end=\"url(#id6)\" stroke=\"rgb(0, 0, 0)\" stroke-width=\"2\"/><text fill=\"rgb(0, 0, 0)\" font-family=\"Arial\" font-size=\"10\" text-anchor=\"middle\" x=\"501.0\" y=\"470.0\">S07</text></g><g id=\"FeedT\"><path d=\"M 0 260.0  L 20.0 260.0  L 20.0 250  L 40 270.0  L 20.0 290  L 20.0 280.0  L 0 280.0  Z\" fill=\"rgb(255, 255, 255)\" stroke=\"rgb(0, 0, 0)\" stroke-width=\"2\"/></g><g id=\"Feed\"><text fill=\"rgb(0, 0, 0)\" font-family=\"Arial\" font-size=\"12\" text-anchor=\"middle\" x=\"20.0\" y=\"310\">Feed</text></g><g id=\"PreheaterT\"><circle cx=\"180.0\" cy=\"270.0\" fill=\"rgb(255, 255, 255)\" r=\"20.0\" stroke=\"rgb(0, 0, 0)\" stroke-width=\"2\"/><path d=\"M 160 270.0  L 166.66666666666666 270.0  L 173.33333333333334 260.0  L 186.66666666666666 280.0  L 193.33333333333334 270.0  L 200 270.0 \" fill=\"none\" stroke=\"rgb(0, 0, 0)\" stroke-width=\"2\"/></g><g id=\"Preheater\"><text fill=\"rgb(0, 0, 0)\" font-family=\"Arial\" font-size=\"12\" text-anchor=\"middle\" x=\"180.0\" y=\"310\">Preheater</text></g><g id=\"TowerT\"><path d=\"M 320.0 140.0  L 300.0 140.0  A 20.0 20.0 0 1,1 340.0 140.0 Z\" fill=\"rgb(255, 255, 255)\" stroke=\"rgb(0, 0, 0)\" stroke-width=\"2\"/><rect fill=\"rgb(255, 255, 255)\" height=\"260.0\" stroke=\"rgb(0, 0, 0)\" stroke-width=\"2\" width=\"40\" x=\"300\" y=\"140.0\"/><path d=\"M 320.0 400.0  L 340.0 400.0  A 20.0 20.0 0 1,1 300.0 400.0 Z\" fill=\"rgb(255, 255, 255)\" stroke=\"rgb(0, 0, 0)\" stroke-width=\"2\"/><line stroke=\"rgb(0, 0, 0)\" stroke-width=\"2\" x1=\"300\" x2=\"340\" y1=\"140.0\" y2=\"250.0\"/><line stroke=\"rgb(0, 0, 0)\" stroke-width=\"2\" x1=\"340\" x2=\"300\" y1=\"140.0\" y2=\"250.0\"/><line stroke=\"rgb(0, 0, 0)\" stroke-width=\"2\" x1=\"300\" x2=\"340\" y1=\"250.0\" y2=\"250.0\"/><line stroke=\"rgb(0, 0, 0)\" stroke-width=\"2\" x1=\"300\" x2=\"340\" y1=\"290.0\" y2=\"400.0\"/><line stroke=\"rgb(0, 0, 0)\" stroke-width=\"2\" x1=\"340\" x2=\"300\" y1=\"290.0\" y2=\"400.0\"/><line stroke=\"rgb(0, 0, 0)\" stroke-width=\"2\" x1=\"300\" x2=\"340\" y1=\"290.0\" y2=\"290.0\"/></g><g id=\"Tower\"><text fill=\"rgb(0, 0, 0)\" font-family=\"Arial\" font-size=\"12\" text-anchor=\"start\" x=\"350\" y=\"270.0\">Tower</text></g><g id=\"MX1T\"><rect fill=\"rgb(0, 0, 0)\" height=\"10\" stroke=\"rgb(0, 0, 0)\" stroke-width=\"2\" width=\"10\" x=\"405\" y=\"455\"/></g><g id=\"MX1\"><text fill=\"rgb(0, 0, 0)\" font-family=\"Arial\" font-size=\"12\" text-anchor=\"middle\" x=\"410.0\" y=\"480\">MX1</text></g><g id=\"SP1T\"><rect fill=\"rgb(0, 0, 0)\" height=\"10\" stroke=\"rgb(0, 0, 0)\" stroke-width=\"2\" width=\"10\" x=\"465\" y=\"455\"/></g><g id=\"SP1\"><text fill=\"rgb(0, 0, 0)\" font-family=\"Arial\" font-size=\"12\" text-anchor=\"middle\" x=\"470.0\" y=\"480\">SP1</text></g><g id=\"ReboilerT\" transform=\"translate(0,380.0) scale(1,-1) translate(0,-380.0)\"><path d=\"M 410.0 360.0  L 390.0 360.0  A 20.0 20.0 0 1,1 430.0 360.0 Z\" fill=\"rgb(255, 255, 255)\" stroke=\"rgb(0, 0, 0)\" stroke-width=\"2\"/><rect fill=\"rgb(255, 255, 255)\" height=\"40\" stroke=\"rgb(0, 0, 0)\" stroke-width=\"2\" width=\"40\" x=\"390\" y=\"360\"/><path d=\"M 410.0 400.0  L 430.0 400.0  A 20.0 20.0 0 1,1 390.0 400.0 Z\" fill=\"rgb(255, 255, 255)\" stroke=\"rgb(0, 0, 0)\" stroke-width=\"2\"/><line stroke=\"rgb(0, 0, 0)\" stroke-width=\"2\" x1=\"398.0\" x2=\"398.0\" y1=\"360\" y2=\"400\"/><line stroke=\"rgb(0, 0, 0)\" stroke-width=\"2\" x1=\"406.0\" x2=\"406.0\" y1=\"360\" y2=\"400\"/><line stroke=\"rgb(0, 0, 0)\" stroke-width=\"2\" x1=\"414.0\" x2=\"414.0\" y1=\"360\" y2=\"400\"/><line stroke=\"rgb(0, 0, 0)\" stroke-width=\"2\" x1=\"422.0\" x2=\"422.0\" y1=\"360\" y2=\"400\"/></g><g id=\"Reboiler\"><text fill=\"rgb(0, 0, 0)\" font-family=\"Arial\" font-size=\"12\" text-anchor=\"start\" x=\"440\" y=\"380.0\">Reboiler</text></g><g id=\"CondenserT\" transform=\"rotate(15,440.0,60.0 ) \"><path d=\"M 410.0 60.0  L 410.0 80.0  A 20.0 20.0 0 1,1 410.0 40.0 Z\" fill=\"rgb(255, 255, 255)\" stroke=\"rgb(0, 0, 0)\" stroke-width=\"2\"/><rect fill=\"rgb(255, 255, 255)\" height=\"40\" stroke=\"rgb(0, 0, 0)\" stroke-width=\"2\" width=\"60.0\" x=\"410.0\" y=\"40\"/><path d=\"M 470.0 60.0  L 470.0 40.0  A 20.0 20.0 0 1,1 470.0 80.0 Z\" fill=\"rgb(255, 255, 255)\" stroke=\"rgb(0, 0, 0)\" stroke-width=\"2\"/><line stroke=\"rgb(0, 0, 0)\" stroke-width=\"2\" x1=\"410.0\" x2=\"470.0\" y1=\"48.0\" y2=\"48.0\"/><line stroke=\"rgb(0, 0, 0)\" stroke-width=\"2\" x1=\"410.0\" x2=\"470.0\" y1=\"56.0\" y2=\"56.0\"/><line stroke=\"rgb(0, 0, 0)\" stroke-width=\"2\" x1=\"410.0\" x2=\"470.0\" y1=\"64.0\" y2=\"64.0\"/><line stroke=\"rgb(0, 0, 0)\" stroke-width=\"2\" x1=\"410.0\" x2=\"470.0\" y1=\"72.0\" y2=\"72.0\"/></g><g id=\"Condenser\"><text fill=\"rgb(0, 0, 0)\" font-family=\"Arial\" font-size=\"12\" text-anchor=\"middle\" x=\"440.0\" y=\"100\">Condenser</text></g><g id=\"SP2T\" transform=\"rotate(90,510.0,140.0 ) \"><rect fill=\"rgb(0, 0, 0)\" height=\"10\" stroke=\"rgb(0, 0, 0)\" stroke-width=\"2\" width=\"10\" x=\"505\" y=\"135\"/></g><g id=\"SP2\"><text fill=\"rgb(0, 0, 0)\" font-family=\"Arial\" font-size=\"12\" text-anchor=\"middle\" x=\"510.0\" y=\"160\">SP2</text></g><g id=\"P1T\"><path d=\"M 560 130.0  L 580.0 130.0  L 580.0 120  L 600 140.0  L 580.0 160  L 580.0 150.0  L 560 150.0  Z\" fill=\"rgb(255, 255, 255)\" stroke=\"rgb(0, 0, 0)\" stroke-width=\"2\"/></g><g id=\"P1\"><text fill=\"rgb(0, 0, 0)\" font-family=\"Arial\" font-size=\"12\" text-anchor=\"middle\" x=\"580.0\" y=\"180\">P1</text></g><g id=\"P2T\" transform=\"translate(20.0,0) scale(-1,1) translate(-20.0,0)\"><path d=\"M 0 410.0  L 20.0 410.0  L 20.0 400  L 40 420.0  L 20.0 440  L 20.0 430.0  L 0 430.0  Z\" fill=\"rgb(255, 255, 255)\" stroke=\"rgb(0, 0, 0)\" stroke-width=\"2\"/></g><g id=\"P2\"><text fill=\"rgb(0, 0, 0)\" font-family=\"Arial\" font-size=\"12\" text-anchor=\"middle\" x=\"20.0\" y=\"460\">P2</text></g><g id=\"P3T\"><path d=\"M 560 10.0  L 580.0 10.0  L 580.0 0  L 600 20.0  L 580.0 40  L 580.0 30.0  L 560 30.0  Z\" fill=\"rgb(255, 255, 255)\" stroke=\"rgb(0, 0, 0)\" stroke-width=\"2\"/></g><g id=\"P3\"><text fill=\"rgb(0, 0, 0)\" font-family=\"Arial\" font-size=\"12\" text-anchor=\"middle\" x=\"580.0\" y=\"60\">P3</text></g></svg>"
     },
     "metadata": {},
     "execution_count": 6
    }
   ],
   "source": [
    "from pyflowsheet import Flowsheet, UnitOperation, Distillation, Vessel, BlackBox, Pump, Stream, StreamFlag, Valve,HeatExchanger, Mixer, Splitter, Port,BitmapContext, SvgContext\n",
    "from IPython.core.display import SVG, HTML\n",
    "from pyflowsheet import VerticalLabelAlignment, HorizontalLabelAlignment\n",
    "\n",
    "pfd= Flowsheet(\"V100-DS10\",\"Complex Distillation\", \"Demo Flowsheet for testing externalized columns peripherals and routing\")\n",
    "\n",
    "Feed= StreamFlag(\"Feed\", \"Feed\", position=(0,250))\n",
    "HX1=HeatExchanger(\"Preheater\",\"Pre-Heater\", position=(160,250))\n",
    "TWR1=Distillation(\"Tower\",\"Distillation Tower\", hasCondenser=False, hasReboiler=False,position=(300,120), size=(40,300), internals=\"packing\")\n",
    "MX1= Mixer(\"MX1\", \"Mixer\", position=(400,450))\n",
    "SP1= Splitter(\"SP1\", \"Splitter\", position=(460,450))\n",
    "REB=Vessel(\"Reboiler\",\"Falling Film Evaporator\", position=(390,340), size=(40,80),capLength=20,internals=\"Tubes\")\n",
    "REB.ports[\"Out2\"] = Port(\"Out2\", REB, (0, .25), (-1, 0), intent=\"out\")\n",
    "COND=Vessel(\"Condenser\",\"Condenser\", position=(390,40), orientation=\"horizontal\", size=(100,40), internals=\"tubes\")\n",
    "COND.ports[\"Out2\"] = Port(\"Out2\", COND, (0.85, 0), (0, -1), intent=\"out\")\n",
    "SP2= Splitter(\"SP2\", \"Reflux-Splitter\", position=(500,130))\n",
    "P1= StreamFlag(\"P1\", \"Product 1\", position=(560,120))\n",
    "P2= StreamFlag(\"P2\", \"Product 2\", position=(0,400))\n",
    "P3= StreamFlag(\"P3\", \"Product 3\", position=(560,0))\n",
    "\n",
    "#rotate units to resemble the actual plant layout\n",
    "COND.rotate(15)\n",
    "SP2.rotate(90)\n",
    "P2.flip(axis=\"horizontal\")\n",
    "REB.flip(axis=\"vertical\")\n",
    "\n",
    "pfd.addUnits( [Feed,HX1,TWR1,MX1, SP1, REB,COND,SP2, P1,P2,P3] )\n",
    "\n",
    "pfd.connect(\"S01\", Feed[\"Out\"], HX1[\"TIn\"] ) \n",
    "pfd.connect(\"S02\", HX1[\"TOut\"], TWR1[\"Feed\"] ) \n",
    "pfd.connect(\"S04\", TWR1[\"LOut\"], MX1[\"In1\"] ) \n",
    "pfd.connect(\"S05\", HX1[\"SOut\"], P2[\"In\"] ) \n",
    "pfd.connect(\"S06\", MX1[\"Out\"], SP1[\"In\"] ) \n",
    "pfd.connect(\"S08\", SP1[\"Out2\"], REB[\"In\"] ) \n",
    "pfd.connect(\"S09\", REB[\"Out\"], MX1[\"In2\"] ) \n",
    "pfd.connect(\"S10\", REB[\"Out2\"], TWR1[\"VIn\"] ) \n",
    "pfd.connect(\"S11\", TWR1[\"VOut\"], COND[\"In\"] ) \n",
    "pfd.connect(\"S12\", COND[\"Out\"], SP2[\"In\"] )\n",
    "pfd.connect(\"S13\", SP2[\"Out2\"], P1[\"In\"] ) \n",
    "pfd.connect(\"S14\", SP2[\"Out3\"], TWR1[\"RIn\"] ) \n",
    "pfd.connect(\"S15\", COND[\"Out2\"], P3[\"In\"] )\n",
    "pfd.connect(\"S07\", SP1[\"Out1\"], HX1[\"SIn\"] ) \n",
    "\n",
    "#If you do not like the automatic stream layout, you can manually define a sequence of relative steps (relative to last point). The first element is the difference in x direction, the second element is the difference in y. The route starts at the source connector.\n",
    "\n",
    "pfd.streams[\"S07\"].manualRouting=[(14,0),(0,30),(-240,0),(0,-260),(-70,0)] \n",
    "pfd.streams[\"S05\"].labelOffset=(10,30)\n",
    "pfd.streams[\"S07\"].labelOffset=(25,10)\n",
    "pfd.streams[\"S15\"].labelOffset=(10,-10)\n",
    "pfd.streams[\"S11\"].labelOffset=(10,-10)\n",
    "\n",
    "#Change the label positions to make them more readable\n",
    "TWR1.setTextAnchor(HorizontalLabelAlignment.RightOuter,VerticalLabelAlignment.Center,(10,0) )\n",
    "REB.setTextAnchor(HorizontalLabelAlignment.RightOuter,VerticalLabelAlignment.Center,(10,0) )\n",
    "\n",
    "ctx= SvgContext(\"img/externalized_column_with_preheater.svg\")\n",
    "img = pfd.draw(ctx)\n",
    "SVG(img.render(scale=1))"
   ]
  },
  {
   "cell_type": "code",
   "execution_count": 1,
   "metadata": {
    "ExecuteTime": {
     "end_time": "2020-12-23T20:55:03.875134Z",
     "start_time": "2020-12-23T20:55:03.658789Z"
    }
   },
   "outputs": [
    {
     "output_type": "execute_result",
     "data": {
      "text/plain": [
       "<IPython.core.display.SVG object>"
      ],
      "image/svg+xml": "<svg baseProfile=\"full\" height=\"560px\" style=\"background-color:rgb(255, 255, 255)\" version=\"1.1\" viewBox=\"-40,-40,1080,560\" width=\"1080px\" xmlns=\"http://www.w3.org/2000/svg\" xmlns:ev=\"http://www.w3.org/2001/xml-events\" xmlns:xlink=\"http://www.w3.org/1999/xlink\"><defs><marker id=\"id1\" markerHeight=\"4\" markerWidth=\"4\" orient=\"auto\" refX=\"2\" refY=\"2\"><path d=\"M0,0 V4 L2,2 Z\" stroke-width=\"1\"/></marker></defs><g id=\"S01\"><path d=\"M 40 420.0  L 40 420  L 50 420  L 50 350  L 280 350  L 280 340 \" fill=\"none\" marker-end=\"url(#id1)\" stroke=\"rgb(0, 0, 0)\" stroke-width=\"2\"/><text fill=\"rgb(0, 0, 0)\" font-family=\"Arial\" font-size=\"10\" text-anchor=\"middle\" x=\"50\" y=\"430\">S01</text></g><g id=\"S02\"><path d=\"M 280.0 200  L 280 200  L 280 20  L 300 20 \" fill=\"none\" marker-end=\"url(#id1)\" stroke=\"rgb(0, 0, 0)\" stroke-width=\"2\"/><text fill=\"rgb(0, 0, 0)\" font-family=\"Arial\" font-size=\"10\" text-anchor=\"middle\" x=\"280\" y=\"200\">S02</text></g><g id=\"FeedT\"><path d=\"M 0 410.0  L 20.0 410.0  L 20.0 400  L 40 420.0  L 20.0 440  L 20.0 430.0  L 0 430.0  Z\" fill=\"rgb(255, 255, 255)\" stroke=\"rgb(0, 0, 0)\" stroke-width=\"2\"/></g><g id=\"Feed\"><text fill=\"rgb(0, 0, 0)\" font-family=\"Arial\" font-size=\"12\" text-anchor=\"middle\" x=\"20.0\" y=\"460\">Feed</text></g><g id=\"HXT\"><path d=\"M 280.0 220.0  L 260.0 220.0  A 20.0 20.0 0 1,1 300.0 220.0 Z\" fill=\"rgb(255, 255, 255)\" stroke=\"rgb(0, 0, 0)\" stroke-width=\"2\"/><rect fill=\"rgb(255, 255, 255)\" height=\"100.0\" stroke=\"rgb(0, 0, 0)\" stroke-width=\"2\" width=\"40\" x=\"260\" y=\"220.0\"/><path d=\"M 280.0 320.0  L 300.0 320.0  A 20.0 20.0 0 1,1 260.0 320.0 Z\" fill=\"rgb(255, 255, 255)\" stroke=\"rgb(0, 0, 0)\" stroke-width=\"2\"/><line stroke=\"rgb(0, 0, 0)\" stroke-width=\"2\" x1=\"268.0\" x2=\"268.0\" y1=\"220.0\" y2=\"320.0\"/><line stroke=\"rgb(0, 0, 0)\" stroke-width=\"2\" x1=\"276.0\" x2=\"276.0\" y1=\"220.0\" y2=\"320.0\"/><line stroke=\"rgb(0, 0, 0)\" stroke-width=\"2\" x1=\"284.0\" x2=\"284.0\" y1=\"220.0\" y2=\"320.0\"/><line stroke=\"rgb(0, 0, 0)\" stroke-width=\"2\" x1=\"292.0\" x2=\"292.0\" y1=\"220.0\" y2=\"320.0\"/></g><g id=\"HX\"><text fill=\"rgb(0, 0, 0)\" font-family=\"Arial\" font-size=\"12\" text-anchor=\"middle\" x=\"280.0\" y=\"360\">HX</text></g><g id=\"P2T\"><path d=\"M 300 10.0  L 320.0 10.0  L 320.0 0  L 340 20.0  L 320.0 40  L 320.0 30.0  L 300 30.0  Z\" fill=\"rgb(255, 255, 255)\" stroke=\"rgb(0, 0, 0)\" stroke-width=\"2\"/></g><g id=\"P2\"><text fill=\"rgb(0, 0, 0)\" font-family=\"Arial\" font-size=\"12\" text-anchor=\"middle\" x=\"320.0\" y=\"60\">P2</text></g><g id=\"text\"><text fill=\"rgb(0, 0, 0)\" font-family=\"Consolas\" font-size=\"12\" text-anchor=\"start\" x=\"320\" y=\"235\">T1 = 128 °C</text></g><g id=\"text\"><text fill=\"rgb(0, 0, 0)\" font-family=\"Consolas\" font-size=\"12\" text-anchor=\"start\" x=\"320\" y=\"250\">T2 = 133 °C</text></g><g id=\"text\"><text fill=\"rgb(0, 0, 0)\" font-family=\"Consolas\" font-size=\"12\" text-anchor=\"start\" x=\"320\" y=\"265\">T3 = 138 °C</text></g><g id=\"text\"><text fill=\"rgb(0, 0, 0)\" font-family=\"Consolas\" font-size=\"12\" text-anchor=\"start\" x=\"320\" y=\"280\">T4 = 143 °C</text></g><g id=\"text\"><text fill=\"rgb(0, 0, 0)\" font-family=\"Consolas\" font-size=\"12\" text-anchor=\"start\" x=\"320\" y=\"295\">T5 = 148 °C</text></g><g id=\"Profile\"><line stroke=\"rgb(255, 0, 0)\" stroke-width=\"2\" x1=\"0\" x2=\"250\" y1=\"50\" y2=\"300\"/><line stroke=\"rgb(255, 0, 0)\" stroke-width=\"2\" x1=\"250\" x2=\"0\" y1=\"50\" y2=\"300\"/><rect fill-opacity=\"0\" height=\"250\" stroke=\"rgb(0, 0, 0)\" stroke-width=\"2\" width=\"250\" x=\"0\" y=\"50\"/><text fill=\"rgb(0, 0, 0)\" font-family=\"Arial\" font-size=\"12\" text-anchor=\"middle\" x=\"125.0\" y=\"320\">Profile</text></g><g id=\"T1\"><line stroke=\"rgb(255, 0, 0)\" stroke-width=\"2\" x1=\"500\" x2=\"1000\" y1=\"100\" y2=\"300\"/><line stroke=\"rgb(255, 0, 0)\" stroke-width=\"2\" x1=\"1000\" x2=\"500\" y1=\"100\" y2=\"300\"/><rect fill-opacity=\"0\" height=\"200\" stroke=\"rgb(0, 0, 0)\" stroke-width=\"2\" width=\"500\" x=\"500\" y=\"100\"/><text fill=\"rgb(0, 0, 0)\" font-family=\"Arial\" font-size=\"12\" text-anchor=\"middle\" x=\"750.0\" y=\"320\">T1</text></g></svg>"
     },
     "metadata": {},
     "execution_count": 1
    }
   ],
   "source": [
    "from pyflowsheet import Flowsheet, UnitOperation, Distillation, Vessel, BlackBox, Pump, Stream, StreamFlag, Valve,HeatExchanger, SvgContext,   TextElement\n",
    "from pyflowsheet.table import Table\n",
    "from pyflowsheet.figure import Figure\n",
    "\n",
    "from IPython.core.display import SVG, HTML\n",
    "\n",
    "import matplotlib.pyplot as plt\n",
    "import pandas as pd\n",
    "import numpy as np\n",
    "\n",
    "#Turn the interactive plotting option off to prohibit the plot to be shown twice\n",
    "plt.ioff()\n",
    "\n",
    "#Create your dataframe\n",
    "df = pd.DataFrame(np.random.randn(10, 4), columns=list('ABCD'))\n",
    "\n",
    "pfd= Flowsheet(\"V100-DS20\",\"Simple Distillation\", \"Demo Flowsheet for testing functionality\")\n",
    "\n",
    "Feed= StreamFlag(\"Feed\", \"Feed\", position=(0,400))\n",
    "HX=Vessel(\"HX\",\"Condenser\", position=(260,200), orientation=\"vertical\", size=(40,140), internals=\"tubes\")\n",
    "P2= StreamFlag(\"P2\", \"Product 2\", position=(300,000))\n",
    "\n",
    "pfd.addUnits( [Feed,HX,P2] )\n",
    "pfd.connect(\"S01\", Feed[\"Out\"], HX[\"In\"] ) \n",
    "pfd.connect(\"S02\", HX[\"Out\"], P2[\"In\"] ) \n",
    "\n",
    "#Create a new table object and pass the pandas table as the data argument. It will internally be rendered as a  matplotlib Table\n",
    "T1 = Table(\"T1\", \"DemoTable\", data=df, position=(500,100), size=(500,200),figsize=(12,5))\n",
    "\n",
    "#Create your plot. Pass it to the Figure annotation. Pass the figure object as the fig parameter. It will internally be rendered into a base64 encoded string and embedded into the SVG drawing.\n",
    "fig=df.plot(kind=\"line\",figsize=(5,5))\n",
    "F1 = Figure(\"Profile\", \"DemoFigure\", fig=plt.gcf(), position=(00,50), size=(250,250))\n",
    "\n",
    "#You can also create very simple tables on your own by creating callouts. In a real application the numbers would of course come from a real data source (simulation or plant data)\n",
    "for i in range(1,6):\n",
    "    pfd.callout(f\"T{i} = {123+5*i} °C\", (320,220+15*i) )\n",
    "\n",
    "pfd.addAnnotations([F1,T1])\n",
    "\n",
    "ctx= SvgContext(\"img/plots_and_tables.svg\")\n",
    "img = pfd.draw(ctx)\n",
    "SVG(img.render(scale=1))\n",
    "\n",
    "  "
   ]
  },
  {
   "cell_type": "code",
   "execution_count": 4,
   "metadata": {},
   "outputs": [
    {
     "output_type": "execute_result",
     "data": {
      "text/plain": [
       "<IPython.core.display.SVG object>"
      ],
      "image/svg+xml": "<svg baseProfile=\"full\" height=\"355px\" style=\"background-color:rgb(255, 255, 255)\" version=\"1.1\" viewBox=\"-40,125,940.0,355\" width=\"940.0px\" xmlns=\"http://www.w3.org/2000/svg\" xmlns:ev=\"http://www.w3.org/2001/xml-events\" xmlns:xlink=\"http://www.w3.org/1999/xlink\"><defs><marker id=\"id4\" markerHeight=\"4\" markerWidth=\"4\" orient=\"auto\" refX=\"2\" refY=\"2\"><path d=\"M0,0 V4 L2,2 Z\" stroke-width=\"1\"/></marker></defs><g id=\"S01\"><path d=\"M 40 210.0  L 40 210  L 100 210 \" fill=\"none\" marker-end=\"url(#id4)\" stroke=\"rgb(0, 0, 0)\" stroke-width=\"2\"/><text fill=\"rgb(0, 0, 0)\" font-family=\"Arial\" font-size=\"10\" text-anchor=\"middle\" x=\"50\" y=\"220\">S01</text></g><g id=\"S02\"><path d=\"M 180 210.0  L 180 210  L 240 210 \" fill=\"none\" marker-end=\"url(#id4)\" stroke=\"rgb(0, 0, 0)\" stroke-width=\"2\"/><text fill=\"rgb(0, 0, 0)\" font-family=\"Arial\" font-size=\"10\" text-anchor=\"middle\" x=\"190\" y=\"220\">S02</text></g><g id=\"S03\"><path d=\"M 320 210.0  L 320 210  L 380 210 \" fill=\"none\" marker-end=\"url(#id4)\" stroke=\"rgb(0, 0, 0)\" stroke-width=\"2\"/><text fill=\"rgb(0, 0, 0)\" font-family=\"Arial\" font-size=\"10\" text-anchor=\"middle\" x=\"330\" y=\"220\">S03</text></g><g id=\"S04\"><path d=\"M 460 210.0  L 460 210  L 520 210 \" fill=\"none\" marker-end=\"url(#id4)\" stroke=\"rgb(0, 0, 0)\" stroke-width=\"2\"/><text fill=\"rgb(0, 0, 0)\" font-family=\"Arial\" font-size=\"10\" text-anchor=\"middle\" x=\"470\" y=\"220\">S04</text></g><g id=\"S05\"><path d=\"M 600 210.0  L 600 210  L 660 210 \" fill=\"none\" marker-end=\"url(#id4)\" stroke=\"rgb(0, 0, 0)\" stroke-width=\"2\"/><text fill=\"rgb(0, 0, 0)\" font-family=\"Arial\" font-size=\"10\" text-anchor=\"middle\" x=\"610\" y=\"220\">S05</text></g><g id=\"S06\"><path d=\"M 740 210.0  L 740 210  L 800 210 \" fill=\"none\" marker-end=\"url(#id4)\" stroke=\"rgb(0, 0, 0)\" stroke-width=\"2\"/><text fill=\"rgb(0, 0, 0)\" font-family=\"Arial\" font-size=\"10\" text-anchor=\"middle\" x=\"750\" y=\"220\">S06</text></g><g id=\"S07\"><path d=\"M 140.0 240  L 140 240  L 140 360 \" fill=\"none\" marker-end=\"url(#id4)\" stroke=\"rgb(0, 0, 0)\" stroke-width=\"2\"/><text fill=\"rgb(0, 0, 0)\" font-family=\"Arial\" font-size=\"10\" text-anchor=\"middle\" x=\"140\" y=\"260\">S07</text></g><g id=\"S08\"><path d=\"M 700.0 240  L 700 240  L 700 360 \" fill=\"none\" marker-end=\"url(#id4)\" stroke=\"rgb(0, 0, 0)\" stroke-width=\"2\"/><text fill=\"rgb(0, 0, 0)\" font-family=\"Arial\" font-size=\"10\" text-anchor=\"middle\" x=\"700\" y=\"260\">S08</text></g><g id=\"S09\"><path d=\"M 420.0 180  L 420 180  L 420 170  L 280 170  L 280 180 \" fill=\"none\" marker-end=\"url(#id4)\" stroke=\"rgb(0, 0, 0)\" stroke-width=\"2\"/><text fill=\"rgb(0, 0, 0)\" font-family=\"Arial\" font-size=\"10\" text-anchor=\"middle\" x=\"420\" y=\"165\">S09</text></g><g id=\"S10\"><path d=\"M 560.0 240  L 560 240  L 560 250  L 280 250  L 280 240 \" fill=\"none\" marker-end=\"url(#id4)\" stroke=\"rgb(0, 0, 0)\" stroke-width=\"2\"/><text fill=\"rgb(0, 0, 0)\" font-family=\"Arial\" font-size=\"10\" text-anchor=\"middle\" x=\"560\" y=\"260\">S10</text></g><g id=\"FeedT\"><path d=\"M 0 200.0  L 20.0 200.0  L 20.0 190  L 40 210.0  L 20.0 230  L 20.0 220.0  L 0 220.0  Z\" fill=\"rgb(255, 255, 255)\" stroke=\"rgb(0, 0, 0)\" stroke-width=\"2\"/></g><g id=\"Feed\"><text fill=\"rgb(0, 0, 0)\" font-family=\"Arial\" font-size=\"12\" text-anchor=\"middle\" x=\"20.0\" y=\"250\">Feed</text></g><g id=\"ProductT\"><path d=\"M 800 200.0  L 820.0 200.0  L 820.0 190  L 840 210.0  L 820.0 230  L 820.0 220.0  L 800 220.0  Z\" fill=\"rgb(255, 255, 255)\" stroke=\"rgb(0, 0, 0)\" stroke-width=\"2\"/></g><g id=\"Product\"><text fill=\"rgb(0, 0, 0)\" font-family=\"Arial\" font-size=\"12\" text-anchor=\"middle\" x=\"820.0\" y=\"250\">Product</text></g><g id=\"WasteT\" transform=\"rotate(90,140.0,380.0 ) \"><path d=\"M 120 370.0  L 140.0 370.0  L 140.0 360  L 160 380.0  L 140.0 400  L 140.0 390.0  L 120 390.0  Z\" fill=\"rgb(255, 255, 255)\" stroke=\"rgb(0, 0, 0)\" stroke-width=\"2\"/></g><g id=\"Waste\"><text fill=\"rgb(0, 0, 0)\" font-family=\"Arial\" font-size=\"12\" text-anchor=\"middle\" x=\"140.0\" y=\"420\">Waste</text></g><g id=\"SideProductT\" transform=\"rotate(90,700.0,380.0 ) \"><path d=\"M 680 370.0  L 700.0 370.0  L 700.0 360  L 720 380.0  L 700.0 400  L 700.0 390.0  L 680 390.0  Z\" fill=\"rgb(255, 255, 255)\" stroke=\"rgb(0, 0, 0)\" stroke-width=\"2\"/></g><g id=\"SideProduct\"><text fill=\"rgb(0, 0, 0)\" font-family=\"Arial\" font-size=\"12\" text-anchor=\"middle\" x=\"700.0\" y=\"420\">SideProduct</text></g><g id=\"PretreatmentT\"><rect fill=\"rgb(255, 255, 255)\" height=\"60\" stroke=\"rgb(0, 0, 0)\" stroke-width=\"2\" width=\"80\" x=\"100\" y=\"180\"/></g><g id=\"Pretreatment\"><text fill=\"rgb(0, 0, 0)\" font-family=\"Arial\" font-size=\"12\" text-anchor=\"middle\" x=\"140.0\" y=\"215.0\">Pretreatment</text></g><g id=\"ReactionT\"><rect fill=\"rgb(255, 255, 255)\" height=\"60\" stroke=\"rgb(0, 0, 0)\" stroke-width=\"2\" width=\"80\" x=\"240\" y=\"180\"/></g><g id=\"Reaction\"><text fill=\"rgb(0, 0, 0)\" font-family=\"Arial\" font-size=\"12\" text-anchor=\"middle\" x=\"280.0\" y=\"215.0\">Reaction</text></g><g id=\"Gas-RecoveryT\"><rect fill=\"rgb(255, 255, 255)\" height=\"60\" stroke=\"rgb(0, 0, 0)\" stroke-width=\"2\" width=\"80\" x=\"380\" y=\"180\"/></g><g id=\"Gas-Recovery\"><text fill=\"rgb(0, 0, 0)\" font-family=\"Arial\" font-size=\"12\" text-anchor=\"middle\" x=\"420.0\" y=\"215.0\">Gas-Recovery</text></g><g id=\"SeparationT\"><rect fill=\"rgb(255, 255, 255)\" height=\"60\" stroke=\"rgb(0, 0, 0)\" stroke-width=\"2\" width=\"80\" x=\"520\" y=\"180\"/></g><g id=\"Separation\"><text fill=\"rgb(0, 0, 0)\" font-family=\"Arial\" font-size=\"12\" text-anchor=\"middle\" x=\"560.0\" y=\"215.0\">Separation</text></g><g id=\"PurificationT\"><rect fill=\"rgb(255, 255, 255)\" height=\"60\" stroke=\"rgb(0, 0, 0)\" stroke-width=\"2\" width=\"80\" x=\"660\" y=\"180\"/></g><g id=\"Purification\"><text fill=\"rgb(0, 0, 0)\" font-family=\"Arial\" font-size=\"12\" text-anchor=\"middle\" x=\"700.0\" y=\"215.0\">Purification</text></g></svg>"
     },
     "metadata": {},
     "execution_count": 4
    }
   ],
   "source": [
    "from pyflowsheet import Flowsheet, BlackBox, Stream, StreamFlag, Port, SvgContext,VerticalLabelAlignment, HorizontalLabelAlignment\n",
    "from IPython.core.display import SVG, HTML\n",
    "\n",
    "pfd= Flowsheet(\"V100\",\"Block Flow Diagram\", \"Demo Flowsheet for showing block-flow diagram style\")\n",
    "\n",
    "SP1=BlackBox(\"Pretreatment\",\"Removal of catalyst poisons\", position=(100,180), size=(80,60))\n",
    "SP2=BlackBox(\"Reaction\",\"Catalytic reaction\", position=(240,180), size=(80,60))\n",
    "SP3=BlackBox(\"Gas-Recovery\",\"Recycling of unconverted gaseous feedstock\", position=(380,180), size=(80,60))\n",
    "SP4=BlackBox(\"Separation\",\"Recycling of solvent\", position=(520,180), size=(80,60))\n",
    "SP5=BlackBox(\"Purification\",\"Removal of side product\", position=(660,180), size=(80,60))\n",
    "\n",
    "Feed= StreamFlag(\"Feed\", \"\", position=(0,190))\n",
    "Product= StreamFlag(\"Product\", \"\", position=(800,190))\n",
    "Waste= StreamFlag(\"Waste\", \"\", position=(120,360))\n",
    "SideProduct= StreamFlag(\"SideProduct\", \"\", position=(680,360))\n",
    "\n",
    "steps=[SP1,SP2,SP3,SP4,SP5]\n",
    "\n",
    "for sp in steps:\n",
    "    sp.setTextAnchor(HorizontalLabelAlignment.Center,VerticalLabelAlignment.Center,(0,5) )\n",
    "\n",
    "Waste.rotate(90)\n",
    "SideProduct.rotate(90)\n",
    "\n",
    "#Add additional ports to the process steps for recycles and removal of unwanted components\n",
    "SP1.ports[\"Out2\"] = Port(\"Out2\", SP1, (0.5, 1), (0, 1), intent=\"out\")\n",
    "SP5.ports[\"Out2\"] = Port(\"Out2\", SP5, (0.5, 1), (0, 1), intent=\"out\")\n",
    "SP3.ports[\"Out2\"] = Port(\"Out2\", SP3, (0.5, 0), (0, -1), intent=\"out\")\n",
    "SP4.ports[\"Out2\"] = Port(\"Out2\", SP4, (0.5, 1), (0, 1), intent=\"out\")\n",
    "SP2.ports[\"In2\"] = Port(\"In2\", SP2, (0.5, 0), (0, -1))\n",
    "SP2.ports[\"In3\"] = Port(\"In3\", SP2, (0.5, 1), (0, 1))\n",
    "\n",
    "#Add all units to the diagram\n",
    "pfd.addUnits( [Feed,Product,Waste, SideProduct, SP1,SP2, SP3, SP4, SP5] )\n",
    "\n",
    "#Create stream connectivity\n",
    "pfd.connect(\"S01\", Feed[\"Out\"], SP1[\"In\"] ) \n",
    "pfd.connect(\"S02\", SP1[\"Out\"], SP2[\"In\"] ) \n",
    "pfd.connect(\"S03\", SP2[\"Out\"], SP3[\"In\"] ) \n",
    "pfd.connect(\"S04\", SP3[\"Out\"], SP4[\"In\"] ) \n",
    "pfd.connect(\"S05\", SP4[\"Out\"], SP5[\"In\"] ) \n",
    "pfd.connect(\"S06\", SP5[\"Out\"], Product[\"In\"] ) \n",
    "pfd.connect(\"S07\", SP1[\"Out2\"], Waste[\"In\"] ) \n",
    "pfd.connect(\"S08\", SP5[\"Out2\"], SideProduct[\"In\"] ) \n",
    "pfd.connect(\"S09\", SP3[\"Out2\"], SP2[\"In2\"] ) \n",
    "pfd.connect(\"S10\", SP4[\"Out2\"], SP2[\"In3\"] ) \n",
    "\n",
    "#Change the label offset for stream S09 to make it more readable\n",
    "pfd.streams[\"S09\"].labelOffset=(0,-5)\n",
    "\n",
    "#Create a rendering context for the flowsheet and display it. pfd.draw(ctx) will also save the file to disc.\n",
    "ctx= SvgContext(\"img/blockflowprocess.svg\")\n",
    "img = pfd.draw(ctx)\n",
    "SVG(img.render(scale=1))"
   ]
  },
  {
   "cell_type": "code",
   "execution_count": null,
   "metadata": {},
   "outputs": [],
   "source": []
  }
 ],
 "metadata": {
  "kernelspec": {
   "display_name": "Python 3",
   "language": "python",
   "name": "python3"
  },
  "language_info": {
   "codemirror_mode": {
    "name": "ipython",
    "version": 3
   },
   "file_extension": ".py",
   "mimetype": "text/x-python",
   "name": "python",
   "nbconvert_exporter": "python",
   "pygments_lexer": "ipython3",
   "version": "3.7.6-final"
  },
  "toc": {
   "base_numbering": 1,
   "nav_menu": {},
   "number_sections": true,
   "sideBar": true,
   "skip_h1_title": false,
   "title_cell": "Table of Contents",
   "title_sidebar": "Contents",
   "toc_cell": false,
   "toc_position": {},
   "toc_section_display": true,
   "toc_window_display": false
  },
  "varInspector": {
   "cols": {
    "lenName": 16,
    "lenType": 16,
    "lenVar": 40
   },
   "kernels_config": {
    "python": {
     "delete_cmd_postfix": "",
     "delete_cmd_prefix": "del ",
     "library": "var_list.py",
     "varRefreshCmd": "print(var_dic_list())"
    },
    "r": {
     "delete_cmd_postfix": ") ",
     "delete_cmd_prefix": "rm(",
     "library": "var_list.r",
     "varRefreshCmd": "cat(var_dic_list()) "
    }
   },
   "types_to_exclude": [
    "module",
    "function",
    "builtin_function_or_method",
    "instance",
    "_Feature"
   ],
   "window_display": false
  }
 },
 "nbformat": 4,
 "nbformat_minor": 2
}