{
 "metadata": {
  "language_info": {
   "codemirror_mode": {
    "name": "ipython",
    "version": 3
   },
   "file_extension": ".py",
   "mimetype": "text/x-python",
   "name": "python",
   "nbconvert_exporter": "python",
   "pygments_lexer": "ipython3",
   "version": "3.7.6-final"
  },
  "orig_nbformat": 2,
  "kernelspec": {
   "name": "python3",
   "display_name": "Python 3",
   "language": "python"
  }
 },
 "nbformat": 4,
 "nbformat_minor": 2,
 "cells": [
  {
   "cell_type": "code",
   "execution_count": 1,
   "metadata": {},
   "outputs": [
    {
     "output_type": "execute_result",
     "data": {
      "text/plain": [
       "<IPython.core.display.SVG object>"
      ],
      "image/svg+xml": "<svg baseProfile=\"full\" height=\"840.0px\" style=\"background-color:rgb(255, 255, 255)\" version=\"1.1\" viewBox=\"-40,-40,540.0,560\" width=\"810.0px\" xmlns=\"http://www.w3.org/2000/svg\" xmlns:ev=\"http://www.w3.org/2001/xml-events\" xmlns:xlink=\"http://www.w3.org/1999/xlink\"><defs><marker id=\"id1\" markerHeight=\"4\" markerWidth=\"4\" orient=\"auto\" refX=\"2\" refY=\"2\"><path d=\"M0,0 V4 L2,2 Z\" stroke-width=\"1\"/></marker></defs><g id=\"S1\"><path d=\"M 40 420.0  L 40 420  L 50 420  L 50 340  L 240 340  L 240 330 \" fill=\"none\" marker-end=\"url(#id1)\" stroke=\"rgb(0, 0, 0)\" stroke-width=\"2\"/><text fill=\"rgb(0, 0, 0)\" font-family=\"Arial\" font-size=\"10\" text-anchor=\"middle\" x=\"50\" y=\"430\">S1</text></g><g id=\"S2\"><path d=\"M 40 260.0  L 40 260  L 200 260 \" fill=\"none\" marker-end=\"url(#id1)\" stroke=\"rgb(0, 0, 0)\" stroke-width=\"2\"/><text fill=\"rgb(0, 0, 0)\" font-family=\"Arial\" font-size=\"10\" text-anchor=\"middle\" x=\"50\" y=\"270\">S2</text></g><g id=\"S3\"><path d=\"M 280 260.0  L 280 260  L 400 260 \" fill=\"none\" marker-end=\"url(#id1)\" stroke=\"rgb(0, 0, 0)\" stroke-width=\"2\"/><text fill=\"rgb(0, 0, 0)\" font-family=\"Arial\" font-size=\"10\" text-anchor=\"middle\" x=\"290\" y=\"270\">S3</text></g><g id=\"S4\"><path d=\"M 260.0 192.8  L 260 190  L 260 150 \" fill=\"none\" marker-end=\"url(#id1)\" stroke=\"rgb(0, 0, 0)\" stroke-width=\"2\"/><text fill=\"rgb(0, 0, 0)\" font-family=\"Arial\" font-size=\"10\" text-anchor=\"middle\" x=\"260\" y=\"190\">S4</text></g><g id=\"S5\"><path d=\"M 260.0 110.0  L 260 110  L 260 40 \" fill=\"none\" marker-end=\"url(#id1)\" stroke=\"rgb(0, 0, 0)\" stroke-width=\"2\"/><text fill=\"rgb(0, 0, 0)\" font-family=\"Arial\" font-size=\"10\" text-anchor=\"middle\" x=\"260\" y=\"110\">S5</text></g><g id=\"AirT\"><path d=\"M 0 410.0  L 20.0 410.0  L 20.0 400  L 40 420.0  L 20.0 440  L 20.0 430.0  L 0 430.0  Z\" fill=\"rgb(255, 255, 255)\" stroke=\"rgb(0, 0, 0)\" stroke-width=\"2\"/></g><g id=\"Air\"><text fill=\"rgb(0, 0, 0)\" font-family=\"Arial\" font-size=\"12\" text-anchor=\"middle\" x=\"20.0\" y=\"460\">Air</text></g><g id=\"SubstrateT\"><path d=\"M 0 250.0  L 20.0 250.0  L 20.0 240  L 40 260.0  L 20.0 280  L 20.0 270.0  L 0 270.0  Z\" fill=\"rgb(255, 255, 255)\" stroke=\"rgb(0, 0, 0)\" stroke-width=\"2\"/></g><g id=\"Substrate\"><text fill=\"rgb(0, 0, 0)\" font-family=\"Arial\" font-size=\"12\" text-anchor=\"middle\" x=\"20.0\" y=\"300\">Substrate</text></g><g id=\"FermenterT\"><rect fill=\"rgb(255, 255, 255)\" height=\"100\" stroke=\"rgb(255, 255, 255)\" stroke-width=\"2\" width=\"80\" x=\"200\" y=\"210\"/><line stroke=\"rgb(0, 0, 0)\" stroke-width=\"2\" x1=\"200\" x2=\"200\" y1=\"210\" y2=\"310\"/><line stroke=\"rgb(0, 0, 0)\" stroke-width=\"2\" x1=\"280\" x2=\"280\" y1=\"210\" y2=\"310\"/><path d=\"M 200.0 210.0  A 40.0 20.0 0 1,1 280.0 210.0\" fill=\"rgb(255, 255, 255)\" stroke=\"rgb(0, 0, 0)\" stroke-width=\"2\"/><path d=\"M 280.0 310.0  A 40.0 20.0 0 1,1 200.0 310.0\" fill=\"rgb(255, 255, 255)\" stroke=\"rgb(0, 0, 0)\" stroke-width=\"2\"/><line stroke=\"rgb(0, 0, 0)\" stroke-width=\"2\" x1=\"240.0\" x2=\"240.0\" y1=\"190\" y2=\"290.0\"/><path d=\"M 220.0 276.0  L 220.0 290.0  L 260.0 290.0  L 260.0 276.0 \" fill=\"none\" stroke=\"rgb(0, 0, 0)\" stroke-width=\"2\"/><path d=\"M 200 270.0  L 195 280.0  L 195 310 \" fill=\"none\" stroke=\"rgb(0, 0, 0)\" stroke-width=\"2\"/><path d=\"M 280 270.0  L 285 280.0  L 285 310 \" fill=\"none\" stroke=\"rgb(0, 0, 0)\" stroke-width=\"2\"/><path d=\"M 285.0 310.0  A 45.0 25.0 0 1,1 195.0 310.0\" fill=\"none\" stroke=\"rgb(0, 0, 0)\" stroke-width=\"2\"/></g><g id=\"Fermenter\"><text fill=\"rgb(0, 0, 0)\" font-family=\"Arial\" font-size=\"12\" text-anchor=\"middle\" x=\"240.0\" y=\"350\">Fermenter</text></g><g id=\"Off-GasT\" transform=\"rotate(-90,260.0,20.0 ) \"><path d=\"M 240 10.0  L 260.0 10.0  L 260.0 0  L 280 20.0  L 260.0 40  L 260.0 30.0  L 240 30.0  Z\" fill=\"rgb(255, 255, 255)\" stroke=\"rgb(0, 0, 0)\" stroke-width=\"2\"/></g><g id=\"Off-Gas\"><text fill=\"rgb(0, 0, 0)\" font-family=\"Arial\" font-size=\"12\" text-anchor=\"middle\" x=\"260.0\" y=\"60\">Off-Gas</text></g><g id=\"ProductT\"><path d=\"M 400 250.0  L 420.0 250.0  L 420.0 240  L 440 260.0  L 420.0 280  L 420.0 270.0  L 400 270.0  Z\" fill=\"rgb(255, 255, 255)\" stroke=\"rgb(0, 0, 0)\" stroke-width=\"2\"/></g><g id=\"Product\"><text fill=\"rgb(0, 0, 0)\" font-family=\"Arial\" font-size=\"12\" text-anchor=\"middle\" x=\"420.0\" y=\"300\">Product</text></g><g id=\"ValveT\" transform=\"rotate(-90,260.0,130.0 ) \"><path d=\"M 240 120  L 280 140  L 280 120  L 240 140  Z\" fill=\"rgb(255, 255, 255)\" stroke=\"rgb(0, 0, 0)\" stroke-width=\"2\"/></g><g id=\"Valve\"><text fill=\"rgb(0, 0, 0)\" font-family=\"Arial\" font-size=\"12\" text-anchor=\"middle\" x=\"260.0\" y=\"160\">Valve</text></g></svg>"
     },
     "metadata": {},
     "execution_count": 1
    }
   ],
   "source": [
    "from pyflowsheet import Flowsheet, UnitOperation, Distillation, Vessel, BlackBox, Pump, Stream, StreamFlag, Valve,HeatExchanger,Mixer, Splitter, Port, SvgContext\n",
    "from pyflowsheet import VerticalLabelAlignment, HorizontalLabelAlignment\n",
    "from pyflowsheet.internals import Tubes, Stirrer, StirrerType, Jacket\n",
    "from IPython.core.display import SVG, HTML\n",
    "\n",
    "pfd= Flowsheet(\"Demo\",\"Simple Distillation\", \"Demo Flowsheet for showing different styling options\")\n",
    "\n",
    "U1=pfd.unit(StreamFlag(\"Air\",\"Off-Page Connector\", position=(00,400)))\n",
    "U2=pfd.unit(StreamFlag(\"Substrate\",\"Off-Page Connector\", position=(00,240)))\n",
    "U3=pfd.unit(Vessel(\"Fermenter\",\"Fermenter\", position=(200,190), capLength=20, showCapLines=False, size=(80,140),internals=[Stirrer(type=StirrerType.Anchor), Jacket()] ))\n",
    "U4=pfd.unit(StreamFlag(\"Off-Gas\",\"Off-Page Connector\", position=(240,000)))\n",
    "U5=pfd.unit(StreamFlag(\"Product\",\"Off-Page Connector\", position=(400,240)))\n",
    "U6=pfd.unit(Valve(\"Valve\",\"Relief Valve\", position=(240,120)))\n",
    "\n",
    "U4.rotate(-90)\n",
    "U6.rotate(-90)\n",
    "U3.ports[\"In2\"] = Port(\"In2\", U3, (0, 0.5), (-1, 0))\n",
    "U3.ports[\"Out2\"] = Port(\"Out2\", U3, (1, 0.5), (1, 0))\n",
    "U3.ports[\"Out\"].relativePosition=(60/80,0.02)\n",
    "\n",
    "pfd.connect(\"S1\", U1[\"Out\"],U3[\"In\"] )\n",
    "pfd.connect(\"S2\", U2[\"Out\"],U3[\"In2\"] )\n",
    "pfd.connect(\"S3\", U3[\"Out2\"],U5[\"In\"] )\n",
    "pfd.connect(\"S4\", U3[\"Out\"],U6[\"In\"] )\n",
    "pfd.connect(\"S5\", U6[\"Out\"],U4[\"In\"] )\n",
    "\n",
    "#pfd.showGrid=True\n",
    "ctx= SvgContext(\"../img/fermenter_example.svg\")\n",
    "img = pfd.draw(ctx)\n",
    "SVG(img.render(scale=1.5))\n"
   ]
  },
  {
   "cell_type": "code",
   "execution_count": null,
   "metadata": {},
   "outputs": [],
   "source": []
  }
 ]
}