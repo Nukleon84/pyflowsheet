{
 "metadata": {
  "language_info": {
   "codemirror_mode": {
    "name": "ipython",
    "version": 3
   },
   "file_extension": ".py",
   "mimetype": "text/x-python",
   "name": "python",
   "nbconvert_exporter": "python",
   "pygments_lexer": "ipython3",
   "version": "3.7.6-final"
  },
  "orig_nbformat": 2,
  "kernelspec": {
   "name": "python3",
   "display_name": "Python 3",
   "language": "python"
  }
 },
 "nbformat": 4,
 "nbformat_minor": 2,
 "cells": [
  {
   "cell_type": "code",
   "execution_count": 1,
   "metadata": {},
   "outputs": [
    {
     "output_type": "execute_result",
     "data": {
      "text/plain": [
       "<IPython.core.display.SVG object>"
      ],
      "image/svg+xml": "<svg baseProfile=\"full\" height=\"1120px\" style=\"background-color:rgb(255, 255, 255)\" version=\"1.1\" viewBox=\"-40,-40,540.0,560\" width=\"1080.0px\" xmlns=\"http://www.w3.org/2000/svg\" xmlns:ev=\"http://www.w3.org/2001/xml-events\" xmlns:xlink=\"http://www.w3.org/1999/xlink\"><defs><marker id=\"id1\" markerHeight=\"4\" markerWidth=\"4\" orient=\"auto\" refX=\"2\" refY=\"2\"><path d=\"M0,0 V4 L2,2 Z\" stroke-width=\"1\"/></marker></defs><g id=\"S1\"><path d=\"M 40 420.0  L 40 420  L 50 420  L 50 350  L 240 350  L 240 340 \" fill=\"none\" marker-end=\"url(#id1)\" stroke=\"rgb(0, 0, 0)\" stroke-width=\"2\"/><text fill=\"rgb(0, 0, 0)\" font-family=\"Arial\" font-size=\"10\" text-anchor=\"middle\" x=\"50\" y=\"430\">S1</text></g><g id=\"S2\"><path d=\"M 40 260.0  L 40 260  L 200 260 \" fill=\"none\" marker-end=\"url(#id1)\" stroke=\"rgb(0, 0, 0)\" stroke-width=\"2\"/><text fill=\"rgb(0, 0, 0)\" font-family=\"Arial\" font-size=\"10\" text-anchor=\"middle\" x=\"50\" y=\"270\">S2</text></g><g id=\"S3\"><path d=\"M 280 260.0  L 280 260  L 400 260 \" fill=\"none\" marker-end=\"url(#id1)\" stroke=\"rgb(0, 0, 0)\" stroke-width=\"2\"/><text fill=\"rgb(0, 0, 0)\" font-family=\"Arial\" font-size=\"10\" text-anchor=\"middle\" x=\"290\" y=\"270\">S3</text></g><g id=\"S4\"><path d=\"M 272.0 189.6  L 270 190  L 270 170 \" fill=\"none\" marker-end=\"url(#id1)\" stroke=\"rgb(0, 0, 0)\" stroke-width=\"2\"/><text fill=\"rgb(0, 0, 0)\" font-family=\"Arial\" font-size=\"10\" text-anchor=\"middle\" x=\"270\" y=\"190\">S4</text></g><g id=\"S5\"><path d=\"M 270.0 130.0  L 270 130  L 270 40 \" fill=\"none\" marker-end=\"url(#id1)\" stroke=\"rgb(0, 0, 0)\" stroke-width=\"2\"/><text fill=\"rgb(0, 0, 0)\" font-family=\"Arial\" font-size=\"10\" text-anchor=\"middle\" x=\"270\" y=\"130\">S5</text></g><g id=\"AirT\"><path d=\"M 0 410.0  L 20.0 410.0  L 20.0 400  L 40 420.0  L 20.0 440  L 20.0 430.0  L 0 430.0  Z\" fill=\"rgb(255, 255, 255)\" stroke=\"rgb(0, 0, 0)\" stroke-width=\"2\"/></g><g id=\"Air\"><text fill=\"rgb(0, 0, 0)\" font-family=\"Arial\" font-size=\"12\" text-anchor=\"middle\" x=\"20.0\" y=\"460\">Air</text></g><g id=\"SubstrateT\"><path d=\"M 0 250.0  L 20.0 250.0  L 20.0 240  L 40 260.0  L 20.0 280  L 20.0 270.0  L 0 270.0  Z\" fill=\"rgb(255, 255, 255)\" stroke=\"rgb(0, 0, 0)\" stroke-width=\"2\"/></g><g id=\"Substrate\"><text fill=\"rgb(0, 0, 0)\" font-family=\"Arial\" font-size=\"12\" text-anchor=\"middle\" x=\"20.0\" y=\"300\">Substrate</text></g><g id=\"FermenterT\"><rect fill=\"rgb(255, 255, 255)\" height=\"80.0\" stroke=\"rgb(255, 255, 255)\" stroke-width=\"2\" width=\"80\" x=\"200\" y=\"220.0\"/><line stroke=\"rgb(0, 0, 0)\" stroke-width=\"2\" x1=\"200\" x2=\"200\" y1=\"220.0\" y2=\"300.0\"/><line stroke=\"rgb(0, 0, 0)\" stroke-width=\"2\" x1=\"280\" x2=\"280\" y1=\"220.0\" y2=\"300.0\"/><path d=\"M 200.0 220.0  A 40.0 40.0 0 1,1 280.0 220.0\" fill=\"rgb(255, 255, 255)\" stroke=\"rgb(0, 0, 0)\" stroke-width=\"2\"/><path d=\"M 280.0 300.0  A 40.0 40.0 0 1,1 200.0 300.0\" fill=\"rgb(255, 255, 255)\" stroke=\"rgb(0, 0, 0)\" stroke-width=\"2\"/><line stroke=\"rgb(0, 0, 0)\" stroke-width=\"2\" x1=\"240.0\" x2=\"240.0\" y1=\"180\" y2=\"300.0\"/><line stroke=\"rgb(0, 0, 0)\" stroke-width=\"2\" x1=\"220.0\" x2=\"260.0\" y1=\"300.0\" y2=\"300.0\"/><rect fill=\"rgb(0, 0, 0)\" height=\"16.0\" stroke=\"rgb(0, 0, 0)\" stroke-width=\"2\" width=\"10.0\" x=\"220.0\" y=\"292.0\"/><rect fill=\"rgb(0, 0, 0)\" height=\"16.0\" stroke=\"rgb(0, 0, 0)\" stroke-width=\"2\" width=\"10.0\" x=\"250.0\" y=\"292.0\"/><path d=\"M 200 270.0  L 195 280.0  L 195 300.0 \" fill=\"none\" stroke=\"rgb(0, 0, 0)\" stroke-width=\"2\"/><path d=\"M 280 270.0  L 285 280.0  L 285 300.0 \" fill=\"none\" stroke=\"rgb(0, 0, 0)\" stroke-width=\"2\"/><path d=\"M 285.0 300.0  A 45.0 45.0 0 1,1 195.0 300.0\" fill=\"none\" stroke=\"rgb(0, 0, 0)\" stroke-width=\"2\"/></g><g id=\"Fermenter\"><text fill=\"rgb(0, 0, 0)\" font-family=\"Arial\" font-size=\"12\" text-anchor=\"middle\" x=\"240.0\" y=\"360\">Fermenter</text></g><g id=\"Off-GasT\" transform=\"rotate(-90,270.0,20.0 ) \"><path d=\"M 250 10.0  L 270.0 10.0  L 270.0 0  L 290 20.0  L 270.0 40  L 270.0 30.0  L 250 30.0  Z\" fill=\"rgb(255, 255, 255)\" stroke=\"rgb(0, 0, 0)\" stroke-width=\"2\"/></g><g id=\"Off-Gas\"><text fill=\"rgb(0, 0, 0)\" font-family=\"Arial\" font-size=\"12\" text-anchor=\"middle\" x=\"270.0\" y=\"60\">Off-Gas</text></g><g id=\"ProductT\"><path d=\"M 400 250.0  L 420.0 250.0  L 420.0 240  L 440 260.0  L 420.0 280  L 420.0 270.0  L 400 270.0  Z\" fill=\"rgb(255, 255, 255)\" stroke=\"rgb(0, 0, 0)\" stroke-width=\"2\"/></g><g id=\"Product\"><text fill=\"rgb(0, 0, 0)\" font-family=\"Arial\" font-size=\"12\" text-anchor=\"middle\" x=\"420.0\" y=\"300\">Product</text></g><g id=\"ValveT\" transform=\"rotate(-90,270.0,150.0 ) \"><path d=\"M 250 140  L 290 160  L 290 140  L 250 160  Z\" fill=\"rgb(255, 255, 255)\" stroke=\"rgb(0, 0, 0)\" stroke-width=\"2\"/></g><g id=\"Valve\"><text fill=\"rgb(0, 0, 0)\" font-family=\"Arial\" font-size=\"12\" text-anchor=\"middle\" x=\"270.0\" y=\"180\">Valve</text></g></svg>"
     },
     "metadata": {},
     "execution_count": 1
    }
   ],
   "source": [
    "from pyflowsheet import Flowsheet, UnitOperation, Distillation, Vessel, BlackBox, Pump, Stream, StreamFlag, Valve,HeatExchanger,Mixer, Splitter, Port, SvgContext\n",
    "from pyflowsheet import VerticalLabelAlignment, HorizontalLabelAlignment\n",
    "from pyflowsheet.internals import Tubes, Stirrer, StirrerType, Jacket\n",
    "from IPython.core.display import SVG, HTML\n",
    "\n",
    "pfd= Flowsheet(\"Demo\",\"Simple Distillation\", \"Demo Flowsheet for showing different styling options\")\n",
    "\n",
    "U1=pfd.unit(StreamFlag(\"Air\",\"Off-Page Connector\", position=(00,400)))\n",
    "U2=pfd.unit(StreamFlag(\"Substrate\",\"Off-Page Connector\", position=(00,240)))\n",
    "U3=pfd.unit(Vessel(\"Fermenter\",\"Fermenter\", position=(200,180), showCapLines=False, size=(80,160),internals=[Stirrer(type=StirrerType.Propeller), Jacket()] ))\n",
    "U4=pfd.unit(StreamFlag(\"Off-Gas\",\"Off-Page Connector\", position=(250,000)))\n",
    "U5=pfd.unit(StreamFlag(\"Product\",\"Off-Page Connector\", position=(400,240)))\n",
    "U6=pfd.unit(Valve(\"Valve\",\"Relief Valve\", position=(250,140)))\n",
    "\n",
    "U4.rotate(-90)\n",
    "U6.rotate(-90)\n",
    "U3.ports[\"In2\"] = Port(\"In2\", U3, (0, 0.5), (-1, 0))\n",
    "U3.ports[\"Out2\"] = Port(\"Out2\", U3, (1, 0.5), (1, 0))\n",
    "U3.ports[\"Out\"].relativePosition=(0.90,0.06)\n",
    "\n",
    "pfd.connect(\"S1\", U1[\"Out\"],U3[\"In\"] )\n",
    "pfd.connect(\"S2\", U2[\"Out\"],U3[\"In2\"] )\n",
    "pfd.connect(\"S3\", U3[\"Out2\"],U5[\"In\"] )\n",
    "pfd.connect(\"S4\", U3[\"Out\"],U6[\"In\"] )\n",
    "pfd.connect(\"S5\", U6[\"Out\"],U4[\"In\"] )\n",
    "\n",
    "\n",
    "ctx= SvgContext(\"../img/fermenter_example.svg\")\n",
    "img = pfd.draw(ctx)\n",
    "SVG(img.render(scale=2))\n"
   ]
  },
  {
   "cell_type": "code",
   "execution_count": null,
   "metadata": {},
   "outputs": [],
   "source": []
  }
 ]
}