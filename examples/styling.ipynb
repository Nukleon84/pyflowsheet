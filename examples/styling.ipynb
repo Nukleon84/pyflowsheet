{
 "metadata": {
  "language_info": {
   "codemirror_mode": {
    "name": "ipython",
    "version": 3
   },
   "file_extension": ".py",
   "mimetype": "text/x-python",
   "name": "python",
   "nbconvert_exporter": "python",
   "pygments_lexer": "ipython3",
   "version": "3.7.6-final"
  },
  "orig_nbformat": 2,
  "kernelspec": {
   "name": "python3",
   "display_name": "Python 3",
   "language": "python"
  }
 },
 "nbformat": 4,
 "nbformat_minor": 2,
 "cells": [
  {
   "cell_type": "code",
   "execution_count": 1,
   "metadata": {},
   "outputs": [
    {
     "output_type": "execute_result",
     "data": {
      "text/plain": [
       "<IPython.core.display.SVG object>"
      ],
      "image/svg+xml": "<svg baseProfile=\"full\" height=\"160px\" style=\"background-color:rgb(255, 255, 255)\" version=\"1.1\" viewBox=\"-40,60,380.0,160\" width=\"380.0px\" xmlns=\"http://www.w3.org/2000/svg\" xmlns:ev=\"http://www.w3.org/2001/xml-events\" xmlns:xlink=\"http://www.w3.org/1999/xlink\"><defs><marker id=\"id1\" markerHeight=\"4\" markerWidth=\"4\" orient=\"auto\" refX=\"2\" refY=\"2\"><path d=\"M0,0 V4 L2,2 Z\" stroke-width=\"1\"/></marker></defs><g id=\"S1\"><path d=\"M 40 120.0  L 40 120  L 100 120 \" fill=\"none\" marker-end=\"url(#id1)\" stroke=\"rgb(0, 0, 0)\" stroke-width=\"2\"/><text fill=\"rgb(0, 0, 0)\" font-family=\"Arial\" font-size=\"10\" text-anchor=\"middle\" x=\"50\" y=\"130\">S1</text></g><g id=\"S2\"><path d=\"M 180 120.0  L 180 120  L 240 120 \" fill=\"none\" marker-end=\"url(#id1)\" stroke=\"rgb(0, 0, 0)\" stroke-width=\"2\"/><text fill=\"rgb(0, 0, 0)\" font-family=\"Arial\" font-size=\"10\" text-anchor=\"middle\" x=\"190\" y=\"130\">S2</text></g><g id=\"U1T\"><path d=\"M 0 110.0  L 20.0 110.0  L 20.0 100  L 40 120.0  L 20.0 140  L 20.0 130.0  L 0 130.0  Z\" fill=\"rgb(255, 255, 255)\" stroke=\"rgb(0, 0, 0)\" stroke-width=\"2\"/></g><g id=\"U1\"><text fill=\"rgb(0, 0, 0)\" font-family=\"Arial\" font-size=\"12\" text-anchor=\"middle\" x=\"20.0\" y=\"160\">U1</text></g><g id=\"U2T\"><path d=\"M 120.0 120.0  L 120.0 140.0  A 20.0 20.0 0 1,1 120.0 100.0 Z\" fill=\"rgb(255, 255, 255)\" stroke=\"rgb(0, 0, 0)\" stroke-width=\"2\"/><rect fill=\"rgb(255, 255, 255)\" height=\"40\" stroke=\"rgb(0, 0, 0)\" stroke-width=\"2\" width=\"40.0\" x=\"120.0\" y=\"100\"/><path d=\"M 160.0 120.0  L 160.0 100.0  A 20.0 20.0 0 1,1 160.0 140.0 Z\" fill=\"rgb(255, 255, 255)\" stroke=\"rgb(0, 0, 0)\" stroke-width=\"2\"/><line stroke=\"rgb(0, 0, 0)\" stroke-width=\"2\" x1=\"120.0\" x2=\"160.0\" y1=\"108.0\" y2=\"108.0\"/><line stroke=\"rgb(0, 0, 0)\" stroke-width=\"2\" x1=\"120.0\" x2=\"160.0\" y1=\"116.0\" y2=\"116.0\"/><line stroke=\"rgb(0, 0, 0)\" stroke-width=\"2\" x1=\"120.0\" x2=\"160.0\" y1=\"124.0\" y2=\"124.0\"/><line stroke=\"rgb(0, 0, 0)\" stroke-width=\"2\" x1=\"120.0\" x2=\"160.0\" y1=\"132.0\" y2=\"132.0\"/></g><g id=\"U2\"><text fill=\"rgb(0, 0, 0)\" font-family=\"Arial\" font-size=\"12\" text-anchor=\"middle\" x=\"140.0\" y=\"160\">U2</text></g><g id=\"U3T\"><path d=\"M 240 110.0  L 260.0 110.0  L 260.0 100  L 280 120.0  L 260.0 140  L 260.0 130.0  L 240 130.0  Z\" fill=\"rgb(255, 255, 255)\" stroke=\"rgb(0, 0, 0)\" stroke-width=\"2\"/></g><g id=\"U3\"><text fill=\"rgb(0, 0, 0)\" font-family=\"Arial\" font-size=\"12\" text-anchor=\"middle\" x=\"260.0\" y=\"160\">U3</text></g></svg>"
     },
     "metadata": {},
     "execution_count": 1
    }
   ],
   "source": [
    "from pyflowsheet import Flowsheet, UnitOperation, Distillation, Vessel, BlackBox, Pump, Stream, StreamFlag, Valve,HeatExchanger,Mixer, Splitter, SvgContext\n",
    "from pyflowsheet import VerticalLabelAlignment, HorizontalLabelAlignment\n",
    "from IPython.core.display import SVG, HTML\n",
    "\n",
    "pfd= Flowsheet(\"Demo\",\"Simple Distillation\", \"Demo Flowsheet for showing different styling options\")\n",
    "\n",
    "U1=pfd.unit(StreamFlag(\"U1\",\"Off-Page Connector\", position=(00,100)))\n",
    "U2=pfd.unit(Vessel(\"U2\",\"Horizontal Vessel\", position=(100,100), orientation=\"horizontal\", size=(80,40),internals=\"tubes\" ))\n",
    "U3=pfd.unit(StreamFlag(\"U3\",\"Off-Page Connector\", position=(240,100)))\n",
    "\n",
    "pfd.connect(\"S1\", U1[\"Out\"],U2[\"In\"] )\n",
    "pfd.connect(\"S2\", U2[\"Out\"],U3[\"In\"] )\n",
    "\n",
    "\n",
    "ctx= SvgContext(\"../img/styling_example.svg\")\n",
    "img = pfd.draw(ctx)\n",
    "SVG(img.render(scale=1))\n"
   ]
  },
  {
   "source": [
    "## Stream Formatting\n",
    "\n",
    "You can change the color of any stream with the lineColor attribute. The API expects a 4-tuple in RGBA format (Red-Green-Blue-Alpha). The alpha value is currently ignored.\n",
    "\n",
    "You can display a stream with dashes by specifying the dashArray attribute. The API expects a string describing the pattern (4 units of line, 1 unit of void in this example.)"
   ],
   "cell_type": "markdown",
   "metadata": {}
  },
  {
   "cell_type": "code",
   "execution_count": 2,
   "metadata": {},
   "outputs": [
    {
     "output_type": "execute_result",
     "data": {
      "text/plain": [
       "<IPython.core.display.SVG object>"
      ],
      "image/svg+xml": "<svg baseProfile=\"full\" height=\"160px\" style=\"background-color:rgb(255, 255, 255)\" version=\"1.1\" viewBox=\"-40,60,380.0,160\" width=\"380.0px\" xmlns=\"http://www.w3.org/2000/svg\" xmlns:ev=\"http://www.w3.org/2001/xml-events\" xmlns:xlink=\"http://www.w3.org/1999/xlink\"><defs><marker id=\"id2\" markerHeight=\"4\" markerWidth=\"4\" orient=\"auto\" refX=\"2\" refY=\"2\"><path d=\"M0,0 V4 L2,2 Z\" stroke-width=\"1\"/></marker></defs><g id=\"S1\"><path d=\"M 40 120.0  L 40 120  L 100 120 \" fill=\"none\" marker-end=\"url(#id2)\" stroke=\"rgb(0, 0, 255)\" stroke-width=\"2\"/><text fill=\"rgb(0, 0, 0)\" font-family=\"Arial\" font-size=\"10\" text-anchor=\"middle\" x=\"50\" y=\"130\">S1</text></g><g id=\"S2\"><path d=\"M 180 120.0  L 180 120  L 240 120 \" fill=\"none\" marker-end=\"url(#id2)\" stroke=\"rgb(0, 0, 0)\" stroke-dasharray=\"4 1\" stroke-width=\"2\"/><text fill=\"rgb(0, 0, 0)\" font-family=\"Arial\" font-size=\"10\" text-anchor=\"middle\" x=\"190\" y=\"130\">S2</text></g><g id=\"U1T\"><path d=\"M 0 110.0  L 20.0 110.0  L 20.0 100  L 40 120.0  L 20.0 140  L 20.0 130.0  L 0 130.0  Z\" fill=\"rgb(255, 255, 255)\" stroke=\"rgb(0, 0, 0)\" stroke-width=\"2\"/></g><g id=\"U1\"><text fill=\"rgb(0, 0, 0)\" font-family=\"Arial\" font-size=\"12\" text-anchor=\"middle\" x=\"20.0\" y=\"160\">U1</text></g><g id=\"U2T\"><path d=\"M 120.0 120.0  L 120.0 140.0  A 20.0 20.0 0 1,1 120.0 100.0 Z\" fill=\"rgb(255, 255, 255)\" stroke=\"rgb(0, 0, 0)\" stroke-width=\"2\"/><rect fill=\"rgb(255, 255, 255)\" height=\"40\" stroke=\"rgb(0, 0, 0)\" stroke-width=\"2\" width=\"40.0\" x=\"120.0\" y=\"100\"/><path d=\"M 160.0 120.0  L 160.0 100.0  A 20.0 20.0 0 1,1 160.0 140.0 Z\" fill=\"rgb(255, 255, 255)\" stroke=\"rgb(0, 0, 0)\" stroke-width=\"2\"/><line stroke=\"rgb(0, 0, 0)\" stroke-width=\"2\" x1=\"120.0\" x2=\"160.0\" y1=\"108.0\" y2=\"108.0\"/><line stroke=\"rgb(0, 0, 0)\" stroke-width=\"2\" x1=\"120.0\" x2=\"160.0\" y1=\"116.0\" y2=\"116.0\"/><line stroke=\"rgb(0, 0, 0)\" stroke-width=\"2\" x1=\"120.0\" x2=\"160.0\" y1=\"124.0\" y2=\"124.0\"/><line stroke=\"rgb(0, 0, 0)\" stroke-width=\"2\" x1=\"120.0\" x2=\"160.0\" y1=\"132.0\" y2=\"132.0\"/></g><g id=\"U2\"><text fill=\"rgb(0, 0, 0)\" font-family=\"Arial\" font-size=\"12\" text-anchor=\"middle\" x=\"140.0\" y=\"160\">U2</text></g><g id=\"U3T\"><path d=\"M 240 110.0  L 260.0 110.0  L 260.0 100  L 280 120.0  L 260.0 140  L 260.0 130.0  L 240 130.0  Z\" fill=\"rgb(255, 255, 255)\" stroke=\"rgb(0, 0, 0)\" stroke-width=\"2\"/></g><g id=\"U3\"><text fill=\"rgb(0, 0, 0)\" font-family=\"Arial\" font-size=\"12\" text-anchor=\"middle\" x=\"260.0\" y=\"160\">U3</text></g></svg>"
     },
     "metadata": {},
     "execution_count": 2
    }
   ],
   "source": [
    "pfd.streams[\"S1\"].lineColor=(0,0,255,255)\n",
    "pfd.streams[\"S2\"].dashArray=\"4 1\"\n",
    "\n",
    "ctx= SvgContext(\"../img/styling_example.svg\")\n",
    "img = pfd.draw(ctx)\n",
    "SVG(img.render(scale=1))"
   ]
  },
  {
   "source": [
    "## Orientation and rotation\n",
    "You can also rotate unit operation or flip them horizontally (or vertically). For rotation, the API expects the angle in degree. Please be aware that successive calls only set the rotation to the argument and do not increment."
   ],
   "cell_type": "markdown",
   "metadata": {}
  },
  {
   "cell_type": "code",
   "execution_count": 3,
   "metadata": {},
   "outputs": [
    {
     "output_type": "execute_result",
     "data": {
      "text/plain": [
       "<IPython.core.display.SVG object>"
      ],
      "image/svg+xml": "<svg baseProfile=\"full\" height=\"360px\" style=\"background-color:rgb(255, 255, 255)\" version=\"1.1\" viewBox=\"-40,-40,440.0,360\" width=\"440.0px\" xmlns=\"http://www.w3.org/2000/svg\" xmlns:ev=\"http://www.w3.org/2001/xml-events\" xmlns:xlink=\"http://www.w3.org/1999/xlink\"><defs><marker id=\"id3\" markerHeight=\"4\" markerWidth=\"4\" orient=\"auto\" refX=\"2\" refY=\"2\"><path d=\"M0,0 V4 L2,2 Z\" stroke-width=\"1\"/></marker></defs><g id=\"S1\"><path d=\"M 40 20.0  L 40 20  L 90 20  L 90 110  L 100 110  L 102.41229516856366 106.31919426697326 \" fill=\"none\" marker-end=\"url(#id3)\" stroke=\"rgb(0, 0, 255)\" stroke-width=\"2\"/><text fill=\"rgb(0, 0, 0)\" font-family=\"Arial\" font-size=\"10\" text-anchor=\"middle\" x=\"50\" y=\"30\">S1</text></g><g id=\"S2\"><path d=\"M 177.58770483143633 133.68080573302674  L 180 130  L 350 130  L 350 220  L 340 220 \" fill=\"none\" marker-end=\"url(#id3)\" stroke=\"rgb(0, 0, 0)\" stroke-dasharray=\"4 1\" stroke-width=\"2\"/><text fill=\"rgb(0, 0, 0)\" font-family=\"Arial\" font-size=\"10\" text-anchor=\"middle\" x=\"190\" y=\"150\">S2</text></g><g id=\"U1T\"><path d=\"M 0 10.0  L 20.0 10.0  L 20.0 0  L 40 20.0  L 20.0 40  L 20.0 30.0  L 0 30.0  Z\" fill=\"rgb(255, 255, 255)\" stroke=\"rgb(0, 0, 0)\" stroke-width=\"2\"/></g><g id=\"U1\"><text fill=\"rgb(0, 0, 0)\" font-family=\"Arial\" font-size=\"12\" text-anchor=\"middle\" x=\"20.0\" y=\"60\">U1</text></g><g id=\"U2T\" transform=\"rotate(20,140.0,120.0 ) \"><path d=\"M 120.0 120.0  L 120.0 140.0  A 20.0 20.0 0 1,1 120.0 100.0 Z\" fill=\"rgb(255, 255, 255)\" stroke=\"rgb(0, 0, 0)\" stroke-width=\"2\"/><rect fill=\"rgb(255, 255, 255)\" height=\"40\" stroke=\"rgb(0, 0, 0)\" stroke-width=\"2\" width=\"40.0\" x=\"120.0\" y=\"100\"/><path d=\"M 160.0 120.0  L 160.0 100.0  A 20.0 20.0 0 1,1 160.0 140.0 Z\" fill=\"rgb(255, 255, 255)\" stroke=\"rgb(0, 0, 0)\" stroke-width=\"2\"/><line stroke=\"rgb(0, 0, 0)\" stroke-width=\"2\" x1=\"120.0\" x2=\"160.0\" y1=\"108.0\" y2=\"108.0\"/><line stroke=\"rgb(0, 0, 0)\" stroke-width=\"2\" x1=\"120.0\" x2=\"160.0\" y1=\"116.0\" y2=\"116.0\"/><line stroke=\"rgb(0, 0, 0)\" stroke-width=\"2\" x1=\"120.0\" x2=\"160.0\" y1=\"124.0\" y2=\"124.0\"/><line stroke=\"rgb(0, 0, 0)\" stroke-width=\"2\" x1=\"120.0\" x2=\"160.0\" y1=\"132.0\" y2=\"132.0\"/></g><g id=\"U2\"><text fill=\"rgb(0, 0, 0)\" font-family=\"Arial\" font-size=\"12\" text-anchor=\"middle\" x=\"140.0\" y=\"160\">U2</text></g><g id=\"U3T\" transform=\"translate(320.0,0) scale(-1,1) translate(-320.0,0)\"><path d=\"M 300 210.0  L 320.0 210.0  L 320.0 200  L 340 220.0  L 320.0 240  L 320.0 230.0  L 300 230.0  Z\" fill=\"rgb(255, 255, 255)\" stroke=\"rgb(0, 0, 0)\" stroke-width=\"2\"/></g><g id=\"U3\"><text fill=\"rgb(0, 0, 0)\" font-family=\"Arial\" font-size=\"12\" text-anchor=\"middle\" x=\"320.0\" y=\"260\">U3</text></g></svg>"
     },
     "metadata": {},
     "execution_count": 3
    }
   ],
   "source": [
    "U1.position=(0,0)\n",
    "U2.rotate(20)\n",
    "U3.position=(300,200)\n",
    "U3.flip(axis=\"horizontal\")\n",
    "\n",
    "ctx= SvgContext(\"../img/styling_example.svg\")\n",
    "img = pfd.draw(ctx)\n",
    "SVG(img.render(scale=1))"
   ]
  },
  {
   "source": [
    "## Styling unit operations\n",
    "\n",
    "You can also change the appearance of the unit operations by changing the lineColor and fillColor attributes. You can also change the position of the text label, as well as the font color and family."
   ],
   "cell_type": "markdown",
   "metadata": {}
  },
  {
   "cell_type": "code",
   "execution_count": 4,
   "metadata": {},
   "outputs": [
    {
     "output_type": "execute_result",
     "data": {
      "text/plain": [
       "<IPython.core.display.SVG object>"
      ],
      "image/svg+xml": "<svg baseProfile=\"full\" height=\"360px\" style=\"background-color:rgb(255, 255, 255)\" version=\"1.1\" viewBox=\"-40,-40,440.0,360\" width=\"440.0px\" xmlns=\"http://www.w3.org/2000/svg\" xmlns:ev=\"http://www.w3.org/2001/xml-events\" xmlns:xlink=\"http://www.w3.org/1999/xlink\"><defs><marker id=\"id4\" markerHeight=\"4\" markerWidth=\"4\" orient=\"auto\" refX=\"2\" refY=\"2\"><path d=\"M0,0 V4 L2,2 Z\" stroke-width=\"1\"/></marker></defs><g id=\"S1\"><path d=\"M 40 20.0  L 40 20  L 90 20  L 90 110  L 100 110  L 102.41229516856366 106.31919426697326 \" fill=\"none\" marker-end=\"url(#id4)\" stroke=\"rgb(0, 0, 255)\" stroke-width=\"2\"/><text fill=\"rgb(0, 0, 0)\" font-family=\"Arial\" font-size=\"10\" text-anchor=\"middle\" x=\"50\" y=\"30\">S1</text></g><g id=\"S2\"><path d=\"M 177.58770483143633 133.68080573302674  L 180 130  L 350 130  L 350 220  L 340 220 \" fill=\"none\" marker-end=\"url(#id4)\" stroke=\"rgb(0, 0, 0)\" stroke-dasharray=\"4 1\" stroke-width=\"2\"/><text fill=\"rgb(0, 0, 0)\" font-family=\"Arial\" font-size=\"10\" text-anchor=\"middle\" x=\"190\" y=\"150\">S2</text></g><g id=\"U1T\"><path d=\"M 0 10.0  L 20.0 10.0  L 20.0 0  L 40 20.0  L 20.0 40  L 20.0 30.0  L 0 30.0  Z\" fill=\"rgb(255, 255, 255)\" stroke=\"rgb(0, 0, 0)\" stroke-width=\"2\"/></g><g id=\"U1\"><text fill=\"rgb(0, 0, 0)\" font-family=\"Arial\" font-size=\"12\" text-anchor=\"middle\" x=\"20.0\" y=\"60\">U1</text></g><g id=\"U2T\" transform=\"rotate(20,140.0,120.0 ) \"><path d=\"M 120.0 120.0  L 120.0 140.0  A 20.0 20.0 0 1,1 120.0 100.0 Z\" fill=\"rgb(150, 150, 150)\" stroke=\"rgb(100, 100, 100)\" stroke-width=\"2\"/><rect fill=\"rgb(150, 150, 150)\" height=\"40\" stroke=\"rgb(100, 100, 100)\" stroke-width=\"2\" width=\"40.0\" x=\"120.0\" y=\"100\"/><path d=\"M 160.0 120.0  L 160.0 100.0  A 20.0 20.0 0 1,1 160.0 140.0 Z\" fill=\"rgb(150, 150, 150)\" stroke=\"rgb(100, 100, 100)\" stroke-width=\"2\"/><line stroke=\"rgb(100, 100, 100)\" stroke-width=\"2\" x1=\"120.0\" x2=\"160.0\" y1=\"108.0\" y2=\"108.0\"/><line stroke=\"rgb(100, 100, 100)\" stroke-width=\"2\" x1=\"120.0\" x2=\"160.0\" y1=\"116.0\" y2=\"116.0\"/><line stroke=\"rgb(100, 100, 100)\" stroke-width=\"2\" x1=\"120.0\" x2=\"160.0\" y1=\"124.0\" y2=\"124.0\"/><line stroke=\"rgb(100, 100, 100)\" stroke-width=\"2\" x1=\"120.0\" x2=\"160.0\" y1=\"132.0\" y2=\"132.0\"/></g><g id=\"U2\"><text fill=\"rgb(255, 0, 0)\" font-family=\"Times New Roman\" font-size=\"12\" text-anchor=\"middle\" x=\"140.0\" y=\"90\">U2</text></g><g id=\"U3T\" transform=\"translate(320.0,0) scale(-1,1) translate(-320.0,0)\"><path d=\"M 300 210.0  L 320.0 210.0  L 320.0 200  L 340 220.0  L 320.0 240  L 320.0 230.0  L 300 230.0  Z\" fill=\"rgb(255, 255, 255)\" stroke=\"rgb(0, 0, 0)\" stroke-width=\"2\"/></g><g id=\"U3\"><text fill=\"rgb(0, 0, 0)\" font-family=\"Arial\" font-size=\"12\" text-anchor=\"middle\" x=\"320.0\" y=\"260\">U3</text></g></svg>"
     },
     "metadata": {},
     "execution_count": 4
    }
   ],
   "source": [
    "U2.fillColor=(150,150,150,255)\n",
    "U2.lineColor=(100,100,100,255)\n",
    "\n",
    "U2.setTextAnchor(HorizontalLabelAlignment.Center,VerticalLabelAlignment.Top,(0,-10) )\n",
    "U2.fontFamily=\"Times New Roman\"\n",
    "U2.textColor = (255,0,0,255)\n",
    "\n",
    "ctx= SvgContext(\"../img/styling_example.svg\")\n",
    "img = pfd.draw(ctx)\n",
    "SVG(img.render(scale=1))"
   ]
  }
 ]
}